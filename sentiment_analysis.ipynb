{
  "nbformat": 4,
  "nbformat_minor": 0,
  "metadata": {
    "colab": {
      "name": "sentiment_analysis.ipynb",
      "provenance": [],
      "authorship_tag": "ABX9TyMRFVw+cia3aDx32krz7wrG",
      "include_colab_link": true
    },
    "kernelspec": {
      "name": "python3",
      "display_name": "Python 3"
    },
    "language_info": {
      "name": "python"
    }
  },
  "cells": [
    {
      "cell_type": "markdown",
      "metadata": {
        "id": "view-in-github",
        "colab_type": "text"
      },
      "source": [
        "<a href=\"https://colab.research.google.com/github/AslanDevbrat/NLP/blob/main/sentiment_analysis.ipynb\" target=\"_parent\"><img src=\"https://colab.research.google.com/assets/colab-badge.svg\" alt=\"Open In Colab\"/></a>"
      ]
    },
    {
      "cell_type": "markdown",
      "source": [
        "## Dataset Processing"
      ],
      "metadata": {
        "id": "n_D1XjVpXecR"
      }
    },
    {
      "cell_type": "code",
      "source": [
        ""
      ],
      "metadata": {
        "id": "J872ZMyQXeEk"
      },
      "execution_count": null,
      "outputs": []
    },
    {
      "cell_type": "code",
      "execution_count": null,
      "metadata": {
        "colab": {
          "base_uri": "https://localhost:8080/"
        },
        "id": "fG8QoDWA_2uA",
        "outputId": "9755fd5f-47c1-41d2-f8d7-f8893ec8ea6a"
      },
      "outputs": [
        {
          "output_type": "stream",
          "name": "stdout",
          "text": [
            "Cloning into 'deep-learning-with-tensorflow-2'...\n",
            "remote: Enumerating objects: 28, done.\u001b[K\n",
            "remote: Counting objects: 100% (28/28), done.\u001b[K\n",
            "remote: Compressing objects: 100% (12/12), done.\u001b[K\n",
            "remote: Total 28 (delta 16), reused 28 (delta 16), pack-reused 0\u001b[K\n",
            "Unpacking objects: 100% (28/28), done.\n"
          ]
        }
      ],
      "source": [
        "!git clone https://github.com/Neuralearn/deep-learning-with-tensorflow-2"
      ]
    },
    {
      "cell_type": "code",
      "source": [
        "!wget https://ai.stanford.edu/~amaas/data/sentiment/aclImdb_v1.tar.gz"
      ],
      "metadata": {
        "colab": {
          "base_uri": "https://localhost:8080/"
        },
        "id": "t6buLmvHGPr6",
        "outputId": "74637f85-081b-42f5-83d4-e5c755e9adcd"
      },
      "execution_count": 1,
      "outputs": [
        {
          "output_type": "stream",
          "name": "stdout",
          "text": [
            "--2022-07-19 06:39:22--  https://ai.stanford.edu/~amaas/data/sentiment/aclImdb_v1.tar.gz\n",
            "Resolving ai.stanford.edu (ai.stanford.edu)... 171.64.68.10\n",
            "Connecting to ai.stanford.edu (ai.stanford.edu)|171.64.68.10|:443... connected.\n",
            "HTTP request sent, awaiting response... 200 OK\n",
            "Length: 84125825 (80M) [application/x-gzip]\n",
            "Saving to: ‘aclImdb_v1.tar.gz’\n",
            "\n",
            "aclImdb_v1.tar.gz   100%[===================>]  80.23M  18.5MB/s    in 9.4s    \n",
            "\n",
            "2022-07-19 06:39:32 (8.55 MB/s) - ‘aclImdb_v1.tar.gz’ saved [84125825/84125825]\n",
            "\n"
          ]
        }
      ]
    },
    {
      "cell_type": "code",
      "source": [
        "!tar -xzf /content/aclImdb_v1.tar.gz"
      ],
      "metadata": {
        "id": "Bc4In9jsGXm2"
      },
      "execution_count": 2,
      "outputs": []
    },
    {
      "cell_type": "code",
      "source": [
        "import tensorflow as tf\n",
        "from tensorflow.keras.layers.experimental.preprocessing import TextVectorization\n",
        "from tensorflow.keras.preprocessing import text_dataset_from_directory\n",
        "from tensorflow.keras.layers import SimpleRNN,LSTM, Dense, Reshape, Embedding,GRU,Bidirectional\n",
        "import numpy as np\n",
        "import re\n",
        "import string\n",
        "import nltk\n",
        "import numpy as np\n",
        "from matplotlib import pyplot as plt\n",
        "import pandas\n",
        "nltk.download('wordnet')\n",
        "nltk.download('omw-1.4')"
      ],
      "metadata": {
        "colab": {
          "base_uri": "https://localhost:8080/"
        },
        "id": "40gSjv4bADoL",
        "outputId": "d3a8bd6e-c5a3-41f7-bff9-36e1c9d7c026"
      },
      "execution_count": 15,
      "outputs": [
        {
          "output_type": "stream",
          "name": "stderr",
          "text": [
            "[nltk_data] Downloading package wordnet to /root/nltk_data...\n",
            "[nltk_data]   Package wordnet is already up-to-date!\n",
            "[nltk_data] Downloading package omw-1.4 to /root/nltk_data...\n",
            "[nltk_data]   Package omw-1.4 is already up-to-date!\n"
          ]
        },
        {
          "output_type": "execute_result",
          "data": {
            "text/plain": [
              "True"
            ]
          },
          "metadata": {},
          "execution_count": 15
        }
      ]
    },
    {
      "cell_type": "code",
      "source": [
        "train_directory = \"/content/aclImdb/train\"\n",
        "val_directory = \"/content/aclImdb/test\""
      ],
      "metadata": {
        "id": "OMonVZ_PHB2Y"
      },
      "execution_count": 4,
      "outputs": []
    },
    {
      "cell_type": "code",
      "source": [
        "!mv /content/aclImdb/train/unsup /content"
      ],
      "metadata": {
        "id": "cbwztOYsJmsc"
      },
      "execution_count": 5,
      "outputs": []
    },
    {
      "cell_type": "code",
      "source": [
        "train_dataset = text_dataset_from_directory(\n",
        "    train_directory,\n",
        ")"
      ],
      "metadata": {
        "colab": {
          "base_uri": "https://localhost:8080/"
        },
        "id": "YiT2JT-GHRtd",
        "outputId": "d4d9bcac-afd7-485f-88ca-d0c61cfb37da"
      },
      "execution_count": 6,
      "outputs": [
        {
          "output_type": "stream",
          "name": "stdout",
          "text": [
            "Found 25000 files belonging to 2 classes.\n"
          ]
        }
      ]
    },
    {
      "cell_type": "code",
      "source": [
        "val_dataset = text_dataset_from_directory(\n",
        "    val_directory,\n",
        "    shuffle = True\n",
        ")"
      ],
      "metadata": {
        "colab": {
          "base_uri": "https://localhost:8080/"
        },
        "id": "KDmWPUVKHm6i",
        "outputId": "af3b188e-0350-4815-a558-2e346ecfcd2b"
      },
      "execution_count": 7,
      "outputs": [
        {
          "output_type": "stream",
          "name": "stdout",
          "text": [
            "Found 25000 files belonging to 2 classes.\n"
          ]
        }
      ]
    },
    {
      "cell_type": "code",
      "source": [
        "for x, y in train_dataset.take(1):\n",
        "  print(x)\n",
        "  print()\n",
        "  print(y)"
      ],
      "metadata": {
        "id": "XTijiiqdJ1zr",
        "colab": {
          "base_uri": "https://localhost:8080/"
        },
        "outputId": "112e2e7b-59b9-43bc-b259-1962950a4275"
      },
      "execution_count": 8,
      "outputs": [
        {
          "output_type": "stream",
          "name": "stdout",
          "text": [
            "tf.Tensor(\n",
            "[b'Following the brilliant \"Goy\\xc3\\xb4kiba\" (aka. \"Hanzo The Razor - Sword Of Justice\", 1972) and its excellent (and even sleazier) sequel \"Goy\\xc3\\xb4kiba: Kamisori Hanz\\xc3\\xb4 jigoku zeme\" (aka. \"Razor 2: The Snare\", 1973), this \"Goy\\xc3\\xb4kiba: Oni no Hanz\\xc3\\xb4 yawahada koban\" aka. \"Razor 3: Who\\'s Got The Gold\" is the third, and sadly final installment to the awesome saga about the incorruptible Samurai-constable Hanzo \\'The Razor\\' Ittami (brilliantly played by the great Shintar\\xc3\\xb4 Katsu), who fights corruption with his fighting expertise as well as his enormous sexual powers. As a big fan of 70s exploitation cinema made in Nippon, \"Sword Of Justice\" became an instant favorite of mine, and I was therefore more than eager to find the sequels, and full of anticipation when I finally stumbled over them recently. While this third \"Hanzo\" film is just not quite as brilliant as its predecessors it is definitely another great piece of cult-cinema that no lover of Japanese exploitation cinema can afford to miss. \"Who\\'s Got The Gold\" is a bit tamer than the two foregoing Hanzo films, but it is just as brilliantly comical and crudely humorous, and immediately starts out fabulously odd: The film begins, when Hanzo\\'s two assistants see a female ghost when fishing. Having always wanted to sleep with a ghost, Hanzo insists that his assistants lead him to the site of the occurrence... If that is not a promising beginning for an awesome film experience, I don\\'t know what is. Shintaro Katsu, one of my personal favorite actors, is once again brilliant in the role of Hanzo, a role that seems to have been written specifically for him. Katsu IS Hanzo, the obstinate and fearless constable, who hates corruption and deliberately insults his superiors, and whose unique interrogation techniques include raping female suspects. The interrogated women than immediately fall for him, due to his sexual powers and enormous penis, which he trains in a rather grotesque routine ritual. I will not give away more about the plot in \"Who\\'s Got The Gold\", but I can assure that it is as cool as it sounds. The supporting performances are also very good, and, as in the predecessors, there are plenty of hilariously eccentric characters. This is sadly the last film in the awesomely sleazy \\'Hanzo\\' series. If they had made 20 sequels more, I would have happily watched them all! The entire Hanzo series is brilliant, and while this third part is a bit inferior compared to its predecessors, it is definitely a must-see for all lovers of cult-cinema! Oh how I wish they had made more sequels!'\n",
            " b\"How can a major German TV station broadcast a mess like this? It's amazing how the main actors avoid every acting talent - Even the well-known Gottfried John is acting very poor - especially in the double murder scene - how amateurish.......! The screen plan is very , very extended - perhaps to fill out 2 parts of the movie. Be careful not to fall asleep while watching! The set is obviously very often a blue screen, f.g. the scenes on the ship with unreal sea in background...! In the German version the sound and the dubbing is very poor - probably reason: different languages of actors - but: other international productions do handle this much more professional. Advice: Do NOT watch - it's a diabolic waste of time!\"\n",
            " b\"I saw this film about twenty years ago on the late show. I still vividly remember the film, especially the performance of Robert Taylor. I always thought Taylor was underrated as an actor as most critics saw him as solid, almost dull leading man type, and women simply loved to watch his films because of his looks. This film, however, proved what an interesting actor he could be. He did not get enough roles like this during his long career. This is his best performance. He is totally believable in a truly villainous role. From what I have read, he was a very hardworking and easy going guy in real life and never fought enough for these kind of roles. He basically would just do what MGM gave him. This film proves that he could have handled more diverse and difficult roles. The other thing I remember about this film is how annoying Lloyd Nolan's character was. Nolan was a great actor, but this character really aggravated me. The last scene of the film has stuck with me for all of these years. This film is definitely worth a look.\"\n",
            " b\"The first one meant victory. This one means defeat. It takes place in a Bolivia, there the guerillas are sick and wary and don't meet that much sympathy from the farmers. If you know your 60s history, you understand how it ends. You will understand it even without that knowledge.<br /><br />Del Toro is once again splendid. He goes on building this icon about the revolutionary who remains the same, regardless of success or failure. That's what Guevara is according to the legend, but still it's so well acted.<br /><br />The documentary feeling is there around the icon, which is one of the greatest achievements in this big Soderbergh project. He has succeeded.\"\n",
            " b\"I don't remember when I first heard about this movie, but I rented it about six years ago, and it still remains one of my favorite comedies. I will admit, you probably will despise this movie if you know nothing about rap music. But if you are a rap fan, even a casual one, you will love the inside jokes and references. One of the best lines in the movie is about the difference between a b**** and a h**; I still use this line today and get lots of laughs with it. One of the best performances comes from Larry Scott, who played nerd Lamar in `Revenge of the Nerds'. It is unfortunate that this movie will likely never get a DVD release.\"\n",
            " b'This has to be one of the most sincere and touching boy-meets-girl movies ever made. While \"Rebel Without a Cause\" and \"Say Anything\" deliver nice portrayals, this movies strips down useless subplots and Hollywood divergences. This movie focuses purely on watching the budding of a beautiful romance. You never doubt for a second that the film will lead towards the romantic pairing of these two people. You almost immediately sense the synergy and the chemistry between Jesse and Celine, and it is simply pure joy to watch them find it. This movie is mostly all dialogue -based. But, every conversation between these too is greatly intriguing. What makes this pairing so romantic is how real it is. How in all that conversation, while often having no real bearing on anything critical, you can sense the nuances as these two become more fond and trusting of each other. This is exactly they way you would dream that you meet that special someone. And what makes it so true is that it is not even too fantastic to believe. This could be what would happen if you had been confident enough to strike up a conversation with that person you noticed somewhere random. And what puts the icing on this film is the magnificent backdrop of Vienna in which this film takes place. It just adds to the feeling of romantic nirvana that the film suggests. And no matter how many times I watch this film, I don\\'t think I will ever tire of that.'\n",
            " b'Last night I decided to watch the prequel or shall I say the so called prequel to Carlito\\'s Way - \"Carlito\\'s Way: Rise to Power (2005)\" which went straight to DVD...no wonder .....it completely ...and I mean completely S%&KS !!! waist of time watching it and I think it would be a pure waist of time writing about it.... I don\\'t understand how De Palma agreed on producing this sh#t-fest of a movie....except for only one fact that I tip my hat to... Jay Hernandez who plays the young Brigante.... reminded me how De Niro got into the shoes of Brando to portray the young Don Corleone in Godfather II ...but the difference De Niro was amazing and even got an Oscar for it !!! Jay Hernandez well he has guts for trying to be a young Pacino.... too bad for him I don\\'t think he will be playing in film anymore and by the way after I watched this sh#$%ty movie, I sat down and watched the original Carlitos way to get the bad taste out of my mouth.'\n",
            " b\"I saw this movie on the Hallmark Channel and thought it was wonderful, especially since it was based on a true man. Pierce Brosnan was very good as the loner English man who took on the persona of the half breed Grey Owl. The photography was beautiful.<br /><br />This movie made me do more research into this character Archie Belaney known simple as Grey Owl. I want to read as much as I can about him. At the time I did not know Richard Attenborough had directed it. But I am not surprised. I like all his movies whether he is acting or directing. I gave it the highest rating. However, I would have liked to have seen more in the movie about WHY he took on this persona as it only showed the two aunts who raised him and his room in their house.<br /><br />You can't go wrong with this movie if you are like me and enjoy a beautiful story without hearing foul language and contrived special effects every few minutes.\"\n",
            " b\"Okay this movie fine like I said but you surely need to watch it as its worth a watch . It's about two boys Mac and Sam who are great friends and work as fashion photographers and the laughing time starts when Mac ( Akshay Kumar ) starts dating with 3 air hostesses at the same time leaving his wife suspicious . Sam attains fortune and almost forgets his friend but not completely . But Mac thinks so and so he starts dating with air hostesses . there's garam masala at every step of the movie , songs rock but somethings lacking . The comedy's not up to the mark and deserves an award . Its nice but not all that excellent . Some people laughed till their stomaches ached but it didn't deserve that many laughs . But of course everyone's opinion is different . So if you wanna watch the movie you're welcome to do so .\"\n",
            " b\"I thought this was a very good movie. It would have been nice to have seen a little more into the movie about the 2 sisters knowing about each liking the same boy before he was killed off. I'm sure if the movie had been done this way there would have been a very different ending, that's why this made this move such a good movie. It shows that no matter what happens in your life with your siblings that you can always get thru it and that if it's 2 sisters dealing with a boy, (the same boy) that working thru the pain and hurt makes things to seem better and easier to work out between the 2 of them. It's nice to see love stories that have a terrible thing to happen in someone's life that you can still get thru it become even closer after its over. I really enjoyed watching this movie, and I still do now when it comes on. I seem to find myself watching it every time it comes on. It would have been nice if there would have been a part 2 for this movie, maybe having the older sister to come up and have his baby, this would really have made a great finish to the story since he died, this way it would keep him alive even though he's dead.\"\n",
            " b\"I discovered this movie with a retailer selling OOP's. And this one surely is an OOP. One year after The Exorcist she's back in business with this movie but what we all new was that the career of Blair never broke out, she never became a mega star. That's one of the reason's many of her films are OOP. She gives a good performance in this movie. It's about a reject not recognized by her parents and doesn't have any friends. Played at an age of 15 playing a girl of 14, that's funny. The movie is also known for the rape scene in the showers were they stick a broomstick up her virginity. In most editions it's cut out, why, I don't know, no blood is involved, okay, Blair is butt naked but nothing is shown, no T&A so nothing to offend people. But the movie is slow, extremely slow. It doesn't happy normally to me but I almost felt asleep. It's just about that 14 year old becoming a rebel against society but no blood flows, no gore no nothing. Why this is categorized in horror is still a wonder to me. If you're a fan of Blair, buy it if you can find it otherwise leave it as it is.\"\n",
            " b\"Although this film is somewhat filled with eighties cheese i have a place for it in my DVD rack and i don't know why. I think i like it because the moral of the story is 'television is garbage so turn it off and go and get a life'. For those of you who do decide to heed the message then you should try reading the book, its nothing like the film at all. To ruin it for you at the end of the story a fatally wounded Richards ends up crashing a plane into the network building, killing himself, everyone inside and shutting down the network at the same time. I read it many years ago but today it would hard not to compare it to 9/11.\"\n",
            " b'Even 15 years after the end of the Vietnam war \"Jacknife\" came not too late or was even superfluous. It\\'s one of the few that try to deal with the second sad side of the war: The time after. Different from movies like \"Taxi driver\" or \"Rambo\" which use to present their main characters as broken heroes in a bad after war environment this movie allows the audience to face a different view on the Vietnam vets. Their development is shown very precisely before and especially after the war. The problems are obvious but in all this tragic there is always the feeling of some hope on the basis of love and friendship. \"Jacknife\" might be the quietest Vietnam movie ever but after almost 15 years this is really plausible and therefor justified. Moreover, it can make us believe that the war has not finished, yet; at least for some of us.<br /><br />The three main characters are amazing. De Niro has done one of his best jobs but Ed Harris is the star of this movie. Possibly,this was his best performance ever.'\n",
            " b'This is perhaps the worst attempt at a Zombie film I have ever had the misfortune to see. Terrible, terrible, terrible. Any review found on this site is obviously the work of either the filmmaker, the filmmakers family, or a friend of the filmmaker. How does this film suck? Let us count the ways...<br /><br />The plot? Incoherent. Dialogue? Atrocious. I will not slam the effects/gore, as I understand that this is low budget. But was there even one zombie that was not obese? C\\'mon! And for a film set in Rhode Island, why did that truck sport a Massachusetts plate? Continuity, find some.<br /><br />The Girl dancing while the soldier \"Stands at attention\". Please, don\\'t put your ex-girlfriend or buddy\\'s sister in your movie naked. This was an ugly movie filled with ugly people, and has no business even mentioning Romero on the cover. Next time you decide to make a movie, don\\'t.'\n",
            " b'Would someone tell shaq to stick to what he is good at basketball. This movie was not even entertaining on a stupid level. In this movie shaq plays a genie who lives in a boom box is that not orginal a genie in a boom box instead of a lamp. He is supposed to help a little boy played by the equally annoying francais cappra. This movie had the most flimsy storyline since water world, the acting was awful and I think that anyone who likes this flim would be afraid to admit it.'\n",
            " b'Who would think Andy Griffith\\'s \"Helen Crump\" (Aneta Corsaut) had a Steve McQueen movie in her past? But that is only one of several weird and wonderful things about the ultimate 1950s teenagers-battle-creatures movie, which might best be described as Rebel Without A Cause meets God Knows What From Outer Space. The Rebel is Steven McQueen (who would shortly decide that \"Steve\" sounded less prissy), a good boy with just enough wild to be interesting; the very wholesome yet understanding girlfriend is the aforementioned Aneta Corsaut. It was bad enough when their date was disrupted by teenage hot-rodders, but they are considerably more nonplussed when they encounter a gelatinous, man-eating What Is It that rides down to earth on its own hotrod meteor--and begins gobbling up townfolk right and left. But will the grown ups believe them? Of course not, what do they know, they\\'re just kids!<br /><br />The movie is teeny bopper at its teeny bopping best. The actors take the rather pretentious script very seriously, with many a soulful look into each other eyes, and the \"adult\" supporting cast probably says \"Kids!\" very third sentence or so. But the real pleasure of the film its creature, which is well imagined, well-executed, and often manages to generate a surprising degree of suspense. And although clearly on the cheap side (check out those miniature sets, guys!), THE BLOB is actually a fairly well-made film--and there\\'s that catchy little theme song thrown in for good measure. The 40-plus crowd (myself included) will enjoy the movie as nostalgia, but that won\\'t prevent them from hooting right along with the younger set at its whole-milk-and-white-bread 1950s sensibility, and the film would be a great choice for either family-movie night or a more sophisticated \"grown ups only\" get together. Make plenty of Jello cubes for movie snacking! Gary F. Taylor, aka GFT, Amazon Reviewer'\n",
            " b\"I can't recommend this film as a date movie. Gary Oldman's semi-autobiographical account of life lived on a South East London estate is a violent, Beckettian account of one of Dante's circles of hell, frankly. At the centre of it is Ray Winstone, who has done this sort of character before but never as well. The film opens with him ordering drinks at a pub bar - that's all - and you are already gripped with a sense of the frustration, self-loathing and barbarism that he exhibits in many different ways throughout the course of the movie. It's an acting masterclass.<br /><br />Of course the stymied and dispossessed need a foil in a drama such as this and Winstone is matched by Kathy Burke as his long-suffering wife, who absorbs and ultimately rejects his unbearable behaviour. Charlie Creed-Miles does an able turn as the fuse-lighting druggie son Billy although he must have wondered sometimes exactly what he let himself in for. Gary Oldman directs close up on the actors, maximising the claustrophobia of their council flat squalor. 4/10\"\n",
            " b\"This movie start quite gruesomely with a female being bound and psychologically tortured. There's male full frontal nudity, dead animal parts, dogs licking nipples, the female loosing control of her bladder. All shot in a gray cold color. Effective, but a little too much. We then move on to seeing the BTK killer's youth as well as the present and his history of crimes. The tension is entirely psychological and the scenes of the killer entering the homes of his victims and talking to them lasts for quite a long time and it's creepy. Here we don't see fancy or good imagery, it looks as if shot with your home camera. It doesn't look horrifying, but in a way seeing a criminal engage his victims for quite some time before killing them is quite unusual and chilling. What this movie doesn't have is any drama, really. There are some cop scenes every once in a while, but there's no excitement in terms of them finding the killer. There isn't much of an arc to this story. This could have been an effective psychological thriller, a study of madness. Unfortunately, the movie is filled with real slaughterhouse footage. It's dispersed throughout the movie and comes on suddenly again and again. Sometimes you don't know it's coming and don't have enough time to look away. And that I have to reject. I'm all for low budget horror movies but I don't tolerate animal suffering. It was unnecessary, excessive, and comes without warning. I'm glad that Lionsgate releases stuff that no one else does, but they should have passed on this movie or edited out the animal gore. Stay away from this garbage.\"\n",
            " b\"I really thought they did an *excellent* job, there was nothing wrong with it at all, I don't know how the first commenter could have said it was terrible, it moved me to tears (I guess it moved about everyone to tears) but I try not to cry in a movie because it's embarrassing but this one got me. It was SOOO good! I hope they release it on DVD because I will definitely buy a copy! I feel like it renewed my faith and gave me a hope that I can't explain, it made me want to strive to be a better person, they went through so much and we kind of take that for granted, I guess. Compared to that, I feel like our own trials are nothing. Well, not nothing, but they hardly match what they had to go through. I loved it. Who played Emma?!\"\n",
            " b'\"Birth of the Beatles\", for being a US television movie, released in the fall of 1979 has actually been, so far the best movie which tells the tale of the the four lads from Liverpool that revolutionized the music industry and the world. As told by the point of view of former Beatle Pete Best. The performance from the entire cast is excellent but, most especially the performance by Stephen Mackenna as John Lennon and Rod Culbertson as Paul McCartney. The film was produced by a legend of the Rock and Roll era,Mr Dick Clark. Who a year earlier in 1978 had produced another TV movie, that has stood the test of time starring \"Kurt Rusell\" in the lead role about another musical legend; \"ELVIS\". That movie was directed by an unknown director named \"John Carpenter\" who went on to direct other successful movies such as; \"Halloween\",\"Escape From New York\", and \"The Thing\". The same can be said for the director of the \"Birth of the Beatles\", Mr Richard Marquand. He went on to direct other theatrical blockbusters such as \"Star Wars Return of the Jedi\",\"Eye of the Needle\",and \"Jagged Edge\" among many. The only other film that tells the story of the Fab Four that I know of,is Back Beat which had a theatrical release in 1994. However, the critics did not care for it,nor did the public, for it did not have a long life span in the theater. Birth of the Beatles is very charming and simplistic film that gives you the essence of the beginning of the legend and the struggles & hardships they went thru and ends at there pinnacle of success when they arrive in NYC and appear in the Ed Sullivan show in 1964. I highly recommend this film.'\n",
            " b\"Simon Pegg stars as Sidney Young, a stereotypically clumsy idiot Brit working as a celebrity journalist in this US comedy. After getting a very lucky break he starts work at the highly respected Sharps magazine run by a reliably on form Jeff Bridges in New York. It's more The Devil Wears Prada than Shaun of the Dead. The unlikely love interest is provided by Kirsten Dunst who works well with Pegg for the laughs but they don't exactly set the screen ablaze with their passion.<br /><br />Sidney goes through some emotional challenges while trying to decide if he should forget about his journalistic principles in order to get material in the magazine. Of course he's eventually seduced by the glitz and glamour of the world of celebrities especially the young starlet Sophie Maes (Transformers' Megan Fox). Fans of Shaun of the Dead, Hot Fuzz and Spaced will wonder if Pegg himself ever experienced similar feelings in real life with this film and to an extent Run Fat Boy Run as one of the UK's best comic talents being ruined by the US.<br /><br />All in all this is a forgettable comedy. Please come back to us Simon, we can forgive and forget.\"\n",
            " b\"How has this piece of crap stayed on TV this long? It's terrible. It makes me want to shoot someone. It's so fake that it is actually worse than a 1940s sci-fi movie. I'd rather have a stroke than watch this nonsense. I remember watching it when it first came out. I thought, hey this could be interesting, then I found out how absolutely, insanely, ridiculously stupid it really was. It was so bad that I actually took out my pocket knife and stuck my hand to the table.<br /><br />Please people, stop watching this and all other reality shows, they're the trash that is jamming the networks and canceling quality programming that requires some thought to create.\"\n",
            " b\"I watched this movie when Joe Bob Briggs hosted Monstervision on TNT. Even he couldn't make this movie enjoyable. The only reason I watched it until the end is because I teach video production and I wanted to make sure my students never made anything this bad ... but it took all my intestinal fortitude to sit through it though. It's like watching your great grandmother flirting with a 15 year old boy ... excruciatingly painful.<br /><br />If you took the actual film, dipped it in paint thinner, then watched it, it would be more entertaining. Seriously.<br /><br />If you see this movie in the bargin bin at S-Mart, back away from it as if it were a rattlesnake.\"\n",
            " b'Samuel Fuller is hardly one of America\\'s great directors. I\\'m not sure he qualifies as one of Hollywood\\'s great craftsmen. But he certainly ranks up there with the best of Hollywood\\'s true professionals who were willing to march to their own music. During the time he worked for Hollywood studios, he knew how to take an assignment, shape the middling material handed to him and then turn it quickly and efficiently into something usually better than its parts...on time and on budget. Pickup on South Street is a case in point. On the surface it\\'s one more of Hollywood\\'s early Fifties\\' anti-Commie movies, complete with appeals to patriotism, a hard-boiled hero and a slimy (and copiously perspiring) bad guy. Fuller turns this bag of Hollywood clich\\xc3\\xa9s into a taut, exciting drama with any number of off-kilter twists. The hero, Skip McCoy, is a three-time loser, a petty crook with soft fingers who doesn\\'t change his stripes until the very end. The girl in the caper, Candy, has a level of virtue that would be easy to step over if you\\'re so inclined. One of the most appealing characters, Moe Williams, is a stoolie. And in an unusual approach to Hollywood\\'s battle against Commies, the appeals to patriotism fall on deaf ears; the hero isn\\'t motivated by anything so ennobling. He just wants payback for a personal reason, and winds up becoming...at least for now...a good guy. <br /><br />Plus, all the actors were mostly assigned to Fuller by the studio. He had to make do. Richard Widmark by now had established his presence as an actor and star, but Jean Peters is a surprise. She gives a fine portrait of a woman sexy and dumb, and no better than her boy friends...or her clients...want her to be. And Richard Kiley, who later would become a two- time Tony award winning star on Broadway, is convincingly slippery and cowardly. It\\'s hard to remember that he was the actor who inflicted on us, I mean introduced to us, \"The Impossible Dream\" from Man of La Mancha, <br /><br />More than anything else, this tale of a pickpocket who picks a purse in a subway car and finds himself with microfilmed secrets instead of cash, pursued by the Feds and the Commies, moves straight ahead with great economy. The whole enterprise, with a classic noir look, only takes 80 minutes to tell. The dialogue, with Fuller as screenwriter, has that party corny, partly pungent hard-boiled pulp fiction style. \"That muffin you grifted...she\\'s okay,\" one character says to Skip about Candy. Fuller moves us just fast enough from scene to scene to keep us hanging on what will come next. Then Fuller throws in the character of Moe Williams. All of a sudden the story ratchets up to a whole new level of interest, part comedy relief and part sad inevitability. <br /><br />The thing I like best about the movie is how the opening exemplifies Fuller\\'s talents and strengths. In 2 minutes and 15 seconds, starting right after the credits, Fuller is able to instantly power up the movie, to establish for us what the story is about, and to show us what kind of characters -- Skip and Candy -- we\\'re going to be involved with. And he does this with so much enticing curiosity in that hot, packed subway car that we can just about feel Fuller setting the hook to catch us. <br /><br />Says Glenn Erickson, in my opinion one of the best of movie critics, \"In what should be an inconsequential story, Sam Fuller defines his peculiar view of Americanism from the bottom up: stiff-necked, aggressive self-interest that when fully expressed recognizes what\\'s wrong and what\\'s right and isn\\'t afraid to fight for it. As always in his work, the individuals who fight the hardest for their country are the ones least likely to benefit from the effort.\" He\\'s right, and it makes for a movie still vivid after 55 years.'\n",
            " b'This movie deserves more than a 1. But I\\'m giving it a one because so many fricken fan boys have given it a 10 resulting in it getting a rating that\\'ll take it into the top 100 list. Seriously it\\'s not that great its not that bad. Its a stupid cult classic with so many fricken fan boys it\\'s ridiculous. These are the types who probably still laugh at Chuck Norris jokes and still say \"I\\'m rick james b!tch\" No matter how old or annoying it gets. I dread having to hear \"I\\'m tired of MFn snakes on this MFn plane\" months from now from idiots trying to be funny. Its crappy plot crap acting etc. Its Okay to love a bad movie, but you still gotta admit its a bad movie.<br /><br />Wait for the Marine starring John Cena if you wanna see a real movie'\n",
            " b\"Evidently lots of people really like this, but I found it infantilising and reasonably offensive codswallop, saved from oblivion by Jane Russell and a couple of memorable musical numbers, especially the opener (but there's a marked dip in invention later on). I don't get on with Monroe - she's supposed to be playing a dumb blonde who ain't that dumb, but she just comes over as dumb. Russell can't quite convince when she claims never to have been in a gymnasium, but is otherwise rather wonderful. The men are staggeringly uninteresting, as is the plot. By no means atrocious, but so patchy that, if this is a classic, God help us all.\"\n",
            " b\"When converting a book to film, it is generally a good idea to keep at least some of the author's intended tone or conveyed concepts, rather than ignoring the author altogether. While it is clear that the director had access to and went on the advice of Elinore Stewart's children, it is key to note that the children believed their mother to be a complete liar in regards to the good, enriching, strengthening experiences of homesteading her land. The book details her life on her and her husband's adjoining homesteads in the vast Wyoming frontier; she chronicles daily adventures with her numerous friends and acquaintances, though they lived dozens of miles apart. The film, however, takes a standard stance for the time it was made, portraying this woman's experience as harsh, unforgiving, and nearly pointless. Perhaps the director was bringing some of his Vietnam War experiences with him to this movie (as some film aficionados have said), but it seems to be a lousy excuse for taking all the joy and beauty of the book and twisting it into a bleak, odious landscape devoid of friends or hope. Don't waste your time with this movie; read the book instead.\"\n",
            " b'I thought Rachel York was fantastic as \"Lucy.\" I have seen her in \"Kiss Me, Kate\" and \"Victor/Victoria,\" as well, and in each of these performances she has developed very different, and very real, characterizations. She is a chameleon who can play (and sing) anything!<br /><br />I am very surprised at how many negative reviews appear here regarding Rachel\\'s performance in \"Lucy.\" Even some bonafide TV and entertainment critics seem to have missed the point of her portrayal. So many people have focused on the fact that Rachel doesn\\'t really look like Lucy. My response to that is, \"So what?\" I wasn\\'t looking for a superficial impersonation of Lucy. I wanted to know more about the real woman behind the clown. And Rachel certainly gave us that, in great depth. I also didn\\'t want to see someone simply \"doing\" classic Lucy routines. Therefore I was very pleased with the decision by the producers and director to have Rachel portray Lucy in rehearsal for the most memorable of these skits - Vitameatavegamin and The Candy Factory. (It seems that some of the reviewers didn\\'t realize that these two scenes were meant to be rehearsal sequences and not the actual skits). This approach, I thought, gave an innovative twist to sketches that so many of us know by heart. I also thought Rachel was terrifically fresh and funny in these scenes. And she absolutely nailed the routines that were recreated - the Professor and the Grape Stomping, in particular. There was one moment in the Grape scene where the corner of Rachel\\'s mouth had the exact little upturn that I remember Lucy having. I couldn\\'t believe she was able to capture that - and so naturally.<br /><br />I wonder if many of the folks who criticized the performance were expecting to see the Lucille Ball of \"I Love Lucy\" throughout the entire movie. After all, those of us who came to know her only through TV would not have any idea what Lucy was really like in her early movie years. I think Rachel showed a natural progression in the character that was brilliant. She planted all the right seeds for us to see the clown just waiting to emerge, given the right set of circumstances. Lucy didn\\'t fit the mold of the old studio system. In her frustrated attempts to become the stereotypical movie star of that era, she kept repressing what would prove to be her ultimate gifts.<br /><br />I believe that Rachel deftly captured the comedy, drama, wit, sadness, anger, passion, love, ambition, loyalty, sexiness, self absorption, childishness, and stoicism all rolled into one complex American icon. And she did it with an authenticity and freshness that was totally endearing. \"Lucy\" was a star turn for Rachel York. I hope it brings a flood of great roles her way in the future. I also hope it brings her an Emmy.'\n",
            " b'I think Via Satellite is one of the best New Zealand made movies around. I loved the way the movie delt with all the characters within the entire movie. It was brilliant, and a heartfelt movie.<br /><br />A well made movie, one which I will always remember, and watch again.'\n",
            " b\"Many of the reviews and comments I have read about this movie say that this is a rather stale film and performance by Clara Bow. Although the story-line was rather typical of Clara's later silents, I still find it somewhat heart-stirring and incredibly fun. Clara plays a happy-go-lucky Hawaiian girl who will stop at nothing to win the man she loves...never mind that this man is married! Clara's lack of modesty was shocking in the day, but I believe it lends to the sweetness and general fun of the movie. Though definitely not a brilliant story-line (quite typical, actually), this movie is a nice showcase of Clara's ability to make the audience laugh.\"\n",
            " b\"A girl is showering unknowing that a serial rapist is staring at her through the skylight. Detectives Martin Manners and Orville Stone is hot on his trail, but not hot enough as they find him after he kills, rapes, and eats a nipple of the girl.He's the shot to death. One would hope that this would be the end of the film. Not because it's too horrifying, but because the level of acting is atrociously horrid. Sadly it's not the end and months later the rapist is resurrected as a zombie by a coven of satanists. So he continues where he left off, with the detectives on the case again, this time a flying baby is after him too (don't ask). There has been VERY good VERY low-budget movies (Street Trash and Filthy McNasty spring to mind), but this one is scraping the bottom of the barrel. Horrible acting, crappy dime store special effects, lame attempt at comedy and oh yeah, and the ending sucks too.<br /><br />My Grade: F <br /><br />Eye Candy: Theresa Bestul gets fully nude; Anne R. Key gets topless\"\n",
            " b'One-note comedy that probably sets modern day feminists\\' teeth on edge. Department store clerk Betsy Drake is in love with the idea of babies and marriage, pinning her hopes on women\\'s magazines until she spies super-bait in the form of sleek bachelor Cary Grant. The rest of the film plods from one ploy to the next as the relentless Drake pursues her quarry. I guess the word \"perky\" just about sum\\'s up Drake\\'s approach to the role. She does have a charming smile, but after 20 minutes of memorizing her dentures, I began to overdose. Grant\\'s role is basically secondary and minus his usual flair. There is one scene, however, that almost salvages this slender exercise. Drake queries the hapless Grant following his lecture to a roomful of respectable ladies. Here her perky manner has an unforced freshness that is really quite remarkable, and had the production not rubbed our noses in that upbeat grin for 90 minutes, the film might have amounted to more than a girls\\' camp day-dream, circa 1948.'], shape=(32,), dtype=string)\n",
            "\n",
            "tf.Tensor([1 0 1 1 1 1 0 1 1 1 0 1 1 0 0 1 0 0 1 1 0 0 0 1 0 0 0 1 1 1 0 0], shape=(32,), dtype=int32)\n"
          ]
        }
      ]
    },
    {
      "cell_type": "code",
      "source": [
        "def preprocess_sentences(input_data):\n",
        "    '''\n",
        "    Input: raw reviews\n",
        "    output: standardized reviews\n",
        "    '''\n",
        "    output=tf.strings.lower(input_data)\n",
        "    outputs=tf.strings.regex_replace(output,\"<[^>]+>\",\"\")\n",
        "    outputs=tf.strings.regex_replace(output,\"<[%s]\"%re.escape(string.punctuation),\" \")\n",
        "    outputs=tf.strings.regex_replace(output,\"  \",\" \")\n",
        "    \n",
        "    return output"
      ],
      "metadata": {
        "id": "KMIBL9qDVZ5y"
      },
      "execution_count": 9,
      "outputs": []
    },
    {
      "cell_type": "code",
      "source": [
        "# def preprocess_sentences(input_data):\n",
        "\n",
        "#      output = tf.strings.lower(input_data)\n",
        "#      output = tf.strings.regex_replace(output, \"<[^>]+>\",\"\")\n",
        "#      output = tf.strings.regex_replace(output,'[%s]' %re.escape(string.punctuation), \"  \")\n",
        "#      output = tf.strings.regex_replace(output, '  ',\" \"  )\n",
        "#      lemmatizer = nltk.stem.WordNetLemmatizer()\n",
        "#      output = tf.strings.join([lemmatizer.lemmatize(str(word)[12:-26], pos = \"a\") for word in tf.strings.split(output)], separator = \" \")\n",
        "#      return output\n",
        "# preprocess_sentences(\"I kind of consider myself as the #1 fan of Hidden Frontier\")\n"
      ],
      "metadata": {
        "id": "RbKsA4WYKC0N"
      },
      "execution_count": 10,
      "outputs": []
    },
    {
      "cell_type": "code",
      "source": [
        "VOCAB_SIZE=2000\n",
        "SEQUENCE_LENGTH=100\n",
        "vectorize_layer=TextVectorization(\n",
        "    standardize=preprocess_sentences,\n",
        "    max_tokens=VOCAB_SIZE,\n",
        "    output_mode='int',\n",
        "    output_sequence_length=SEQUENCE_LENGTH,\n",
        ")\n",
        "training_data=train_dataset.map(lambda x,y:x)### inputsxandyand outputsx\n",
        "vectorize_layer.adapt(training_data)### Adapt the vectorize Layer to the training data"
      ],
      "metadata": {
        "id": "1_UHiFcc9A8K"
      },
      "execution_count": 11,
      "outputs": []
    },
    {
      "cell_type": "code",
      "source": [
        "def vectorizer(review, label):\n",
        "  return vectorize_layer(review), label\n"
      ],
      "metadata": {
        "id": "LeyD0T3p3seD"
      },
      "execution_count": 12,
      "outputs": []
    },
    {
      "cell_type": "code",
      "source": [
        "train_dataset = train_dataset.map(vectorizer)\n",
        "val_dataset = val_dataset.map(vectorizer)"
      ],
      "metadata": {
        "id": "zB7o5OOz4ePe"
      },
      "execution_count": 13,
      "outputs": []
    },
    {
      "cell_type": "code",
      "source": [
        "for x , y in train_dataset.take(1):\n",
        "  print(x,y)"
      ],
      "metadata": {
        "colab": {
          "base_uri": "https://localhost:8080/"
        },
        "id": "jLHlkkDM4yOs",
        "outputId": "7f507054-32ea-4b08-d4aa-4443ca32c5b4"
      },
      "execution_count": null,
      "outputs": [
        {
          "output_type": "stream",
          "name": "stdout",
          "text": [
            "tf.Tensor(\n",
            "[[[0. 0. 0. ... 0. 0. 0.]\n",
            "  [0. 0. 0. ... 0. 0. 0.]\n",
            "  [0. 0. 0. ... 0. 0. 0.]\n",
            "  ...\n",
            "  [1. 0. 0. ... 0. 0. 0.]\n",
            "  [1. 0. 0. ... 0. 0. 0.]\n",
            "  [1. 0. 0. ... 0. 0. 0.]]\n",
            "\n",
            " [[0. 1. 0. ... 0. 0. 0.]\n",
            "  [0. 0. 0. ... 0. 0. 0.]\n",
            "  [0. 0. 0. ... 0. 0. 0.]\n",
            "  ...\n",
            "  [0. 0. 0. ... 0. 0. 0.]\n",
            "  [0. 0. 0. ... 0. 0. 0.]\n",
            "  [0. 0. 0. ... 0. 0. 0.]]\n",
            "\n",
            " [[0. 0. 0. ... 0. 0. 0.]\n",
            "  [0. 0. 0. ... 0. 0. 0.]\n",
            "  [0. 0. 0. ... 0. 0. 0.]\n",
            "  ...\n",
            "  [0. 0. 0. ... 0. 0. 0.]\n",
            "  [0. 0. 1. ... 0. 0. 0.]\n",
            "  [0. 0. 0. ... 0. 0. 0.]]\n",
            "\n",
            " ...\n",
            "\n",
            " [[0. 0. 1. ... 0. 0. 0.]\n",
            "  [0. 0. 0. ... 0. 0. 0.]\n",
            "  [0. 0. 0. ... 0. 0. 0.]\n",
            "  ...\n",
            "  [0. 0. 0. ... 0. 0. 0.]\n",
            "  [0. 0. 0. ... 0. 0. 0.]\n",
            "  [0. 0. 0. ... 0. 0. 0.]]\n",
            "\n",
            " [[0. 0. 0. ... 0. 0. 0.]\n",
            "  [0. 0. 0. ... 0. 0. 0.]\n",
            "  [0. 0. 0. ... 0. 0. 0.]\n",
            "  ...\n",
            "  [0. 0. 0. ... 0. 0. 0.]\n",
            "  [0. 0. 0. ... 0. 0. 0.]\n",
            "  [0. 1. 0. ... 0. 0. 0.]]\n",
            "\n",
            " [[0. 0. 0. ... 0. 0. 0.]\n",
            "  [0. 0. 0. ... 0. 0. 0.]\n",
            "  [0. 0. 0. ... 0. 0. 0.]\n",
            "  ...\n",
            "  [1. 0. 0. ... 0. 0. 0.]\n",
            "  [1. 0. 0. ... 0. 0. 0.]\n",
            "  [1. 0. 0. ... 0. 0. 0.]]], shape=(32, 100, 2000), dtype=float32) tf.Tensor([1 1 0 1 1 1 1 0 0 0 1 0 1 1 0 1 1 1 1 1 0 0 1 0 0 1 1 0 0 0 1 1], shape=(32,), dtype=int32)\n"
          ]
        }
      ]
    },
    {
      "cell_type": "code",
      "source": [
        "train_dataset=train_dataset.cache().prefetch(buffer_size=tf.data.AUTOTUNE)\n",
        "val_dataset=val_dataset.cache().prefetch(buffer_size=tf.data.AUTOTUNE)"
      ],
      "metadata": {
        "id": "-iSz3o8xjdDy"
      },
      "execution_count": 14,
      "outputs": []
    },
    {
      "cell_type": "code",
      "source": [
        "train_dataset\n"
      ],
      "metadata": {
        "colab": {
          "base_uri": "https://localhost:8080/"
        },
        "id": "NAX7-Jehk5rX",
        "outputId": "d2ca488a-2323-4d9e-e4ca-7c13927f75c7"
      },
      "execution_count": null,
      "outputs": [
        {
          "output_type": "execute_result",
          "data": {
            "text/plain": [
              "<PrefetchDataset element_spec=(TensorSpec(shape=(None, 100, 2000), dtype=tf.float32, name=None), TensorSpec(shape=(None,), dtype=tf.int32, name=None))>"
            ]
          },
          "metadata": {},
          "execution_count": 70
        }
      ]
    },
    {
      "cell_type": "markdown",
      "source": [
        "## Modeling\n"
      ],
      "metadata": {
        "id": "9kQ87P7kYH80"
      }
    },
    {
      "cell_type": "code",
      "source": [
        "class RNNCell(tf.keras.layers.Layer):\n",
        "  def __init__(self, units = 4, hidden_size = 7,):\n",
        "    super(RNNCell, self).__init__()\n",
        "\n",
        "    self.units = units\n",
        "    self.hidden_size = hidden_size\n",
        "\n",
        "  def build(self, input_shape):\n",
        "    print(input_shape)\n",
        "\n",
        "    self.w_hh = self.add_weight(\n",
        "        shape = (self.hidden_size, self.hidden_size),\n",
        "        initializer = \"random_normal\",\n",
        "        trainable = True,\n",
        "    )\n",
        "    self.w_hx = self.add_weight(\n",
        "        shape = (input_shape[-1], self.hidden_size),\n",
        "        initializer = \"random_normal\",\n",
        "        trainable = True,\n",
        "    )\n",
        "    self.w_yh = self.add_weight(\n",
        "        shape = (self.hidden_size, self.units),\n",
        "        initializer = \"random_normal\",\n",
        "        trainable = True,\n",
        "    )\n",
        "\n",
        "    self.b_h = self.add_weight(\n",
        "        shape = (self.hidden_size,),\n",
        "        initializer = \"random_normal\",\n",
        "        trainable = True,\n",
        "    )\n",
        "    \n",
        "    self.b_y = self.add_weight(\n",
        "        shape = (self.units,),\n",
        "        initializer = \"random_normal\",\n",
        "        trainable = True,\n",
        "    )\n",
        "\n",
        "  def call(self, inputs, h_prev = None):\n",
        "    if(h_prev == None):\n",
        "      h_prev = tf.zeros([inputs.shape[0], self.hidden_size])\n",
        "    h = tf.nn.tanh(tf.matmul(h_prev, self.w_hh) + tf.matmul(inputs, self.w_hx) + self.b_h)\n",
        "    y = tf.nn.tanh(tf.matmul(h, self.w_yh) + self.b_y)\n",
        "    \n",
        "    return tf.constant(h), tf.constant(y)\n"
      ],
      "metadata": {
        "id": "jjbwN2KIW57u"
      },
      "execution_count": null,
      "outputs": []
    },
    {
      "cell_type": "code",
      "source": [
        "input = tf.zeros([8,  2000])\n",
        "layer = RNNCell()\n",
        "h,y = layer(input)\n",
        "h.shape, y.shape"
      ],
      "metadata": {
        "colab": {
          "base_uri": "https://localhost:8080/"
        },
        "id": "ca2w_Q25dXla",
        "outputId": "53049cbb-de52-4bb3-a3b8-b43b0ecabdc1"
      },
      "execution_count": null,
      "outputs": [
        {
          "output_type": "stream",
          "name": "stdout",
          "text": [
            "(8, 2000)\n"
          ]
        },
        {
          "output_type": "execute_result",
          "data": {
            "text/plain": [
              "(TensorShape([8, 7]), TensorShape([8, 4]))"
            ]
          },
          "metadata": {},
          "execution_count": 20
        }
      ]
    },
    {
      "cell_type": "code",
      "source": [
        "class RNN(tf.keras.layers.Layer):\n",
        "  def __init__(self, units, ):\n",
        "    super(RNN, self).__init__()\n",
        "    self.rnn = RNNCell(units)\n",
        "\n",
        "  def call(self, inputs):\n",
        "    output = []\n",
        "\n",
        "    h,y = self.rnn(input[:,0,:])\n",
        "    output.append(y)\n",
        "\n",
        "    for i in range(1, input.shape[-2]):\n",
        "      h, y = self.rnn(input[:,i,:], h)\n",
        "      output.append(y)\n",
        "    shape = np.array(output).shape\n",
        "    return tf.reshape(output,[ shape[1], shape[0], shape[2]])\n"
      ],
      "metadata": {
        "id": "NEo_rRYWictg"
      },
      "execution_count": null,
      "outputs": []
    },
    {
      "cell_type": "code",
      "source": [
        "input = tf.zeros([8, 100,2000])\n",
        "layer = RNN(4)\n",
        "output = layer(input)\n",
        "output.shape"
      ],
      "metadata": {
        "colab": {
          "base_uri": "https://localhost:8080/"
        },
        "id": "ZLnNfQ0mqHsX",
        "outputId": "6b824f75-ad7d-4338-9d29-4bb360734a86"
      },
      "execution_count": null,
      "outputs": [
        {
          "output_type": "stream",
          "name": "stdout",
          "text": [
            "(8, 2000)\n"
          ]
        },
        {
          "output_type": "execute_result",
          "data": {
            "text/plain": [
              "TensorShape([8, 100, 4])"
            ]
          },
          "metadata": {},
          "execution_count": 22
        }
      ]
    },
    {
      "cell_type": "code",
      "source": [
        "input = tf.zeros([8, 100,2000])\n",
        "layer = SimpleRNN(4, activation = 'tanh', use_bias = True, return_sequences=False, name = \"layer1\")\n",
        "\n",
        "output = layer(input)\n",
        "output.shape"
      ],
      "metadata": {
        "colab": {
          "base_uri": "https://localhost:8080/"
        },
        "id": "KPjVLsoBqsQL",
        "outputId": "7f241fcb-e40d-4c9c-c39d-0fde35c7016d"
      },
      "execution_count": null,
      "outputs": [
        {
          "output_type": "execute_result",
          "data": {
            "text/plain": [
              "TensorShape([8, 4])"
            ]
          },
          "metadata": {},
          "execution_count": 23
        }
      ]
    },
    {
      "cell_type": "code",
      "source": [
        " input = tf.keras.layers.Input(shape = (SEQUENCE_LENGTH,))\n",
        " embedding_size = 256\n",
        "\n",
        " model = tf.keras.models.Sequential([\n",
        "                                     input,\n",
        "                                     tf.keras.layers.Embedding(VOCAB_SIZE, embedding_size),\n",
        "                                     SimpleRNN(4, activation = 'tanh', use_bias = True, return_sequences=True, name = \"layer1\"),\n",
        "                                     Dense(1, activation = \"relu\", name=\"layer2\"),\n",
        "                                     Reshape((SEQUENCE_LENGTH,), name = \"layer3\"),\n",
        "                                     Dense(1, activation = \"sigmoid\", name = \"layer4\")\n",
        " ])\n",
        " model.summary()"
      ],
      "metadata": {
        "colab": {
          "base_uri": "https://localhost:8080/"
        },
        "id": "bEBU1Cd4rN27",
        "outputId": "98061b5f-005a-44b7-d27a-48e98df01694"
      },
      "execution_count": null,
      "outputs": [
        {
          "output_type": "stream",
          "name": "stdout",
          "text": [
            "Model: \"sequential_6\"\n",
            "_________________________________________________________________\n",
            " Layer (type)                Output Shape              Param #   \n",
            "=================================================================\n",
            " embedding_3 (Embedding)     (None, 100, 256)          512000    \n",
            "                                                                 \n",
            " layer1 (SimpleRNN)          (None, 100, 4)            1044      \n",
            "                                                                 \n",
            " layer2 (Dense)              (None, 100, 1)            5         \n",
            "                                                                 \n",
            " layer3 (Reshape)            (None, 100)               0         \n",
            "                                                                 \n",
            " layer4 (Dense)              (None, 1)                 101       \n",
            "                                                                 \n",
            "=================================================================\n",
            "Total params: 513,150\n",
            "Trainable params: 513,150\n",
            "Non-trainable params: 0\n",
            "_________________________________________________________________\n"
          ]
        }
      ]
    },
    {
      "cell_type": "markdown",
      "source": [
        "# Training and Validation and Testing"
      ],
      "metadata": {
        "id": "0s4r2QZ70-cY"
      }
    },
    {
      "cell_type": "code",
      "source": [
        "LR = 1e-4\n",
        "EPOCH = 50\n",
        "\n",
        "model.compile(\n",
        "    loss = tf.keras.losses.BinaryCrossentropy(from_logits = True),\n",
        "    optimizer = tf.keras.optimizers.Adam(lr = LR,),\n",
        "    metrics = [\"accuracy\"],\n",
        ")"
      ],
      "metadata": {
        "colab": {
          "base_uri": "https://localhost:8080/"
        },
        "id": "wcoAyUDKuPvz",
        "outputId": "7c135cc5-1d3c-4b35-81e9-7d1bcffd2ace"
      },
      "execution_count": null,
      "outputs": [
        {
          "output_type": "stream",
          "name": "stderr",
          "text": [
            "/usr/local/lib/python3.7/dist-packages/keras/optimizer_v2/adam.py:105: UserWarning: The `lr` argument is deprecated, use `learning_rate` instead.\n",
            "  super(Adam, self).__init__(name, **kwargs)\n"
          ]
        }
      ]
    },
    {
      "cell_type": "code",
      "source": [
        ""
      ],
      "metadata": {
        "id": "EC9bZL6n_tx-"
      },
      "execution_count": null,
      "outputs": []
    },
    {
      "cell_type": "code",
      "source": [
        "checkpoint_filepath  = \"basic_rnn.hdf5\"\n",
        "\n",
        "#checkpoint_filepath=\"imdb/basic_rnn.hdf5\"\n",
        "callback=tf.keras.callbacks.ModelCheckpoint(\n",
        "   filepath=checkpoint_filepath,### WHERE BEST WEIGHTS ARE STORED\n",
        "    save_weights_only=True,\n",
        "   monitor=\"loss\",\n",
        "   mode='min',\n",
        "    save_best_only=True)\n",
        "#Train model on dataset\n",
        "history=model.fit(train_dataset,validation_data=val_dataset,verbose=1,epochs=EPOCH,callbacks=[callback])#"
      ],
      "metadata": {
        "colab": {
          "base_uri": "https://localhost:8080/"
        },
        "id": "qcKp-Yqv1s6s",
        "outputId": "41ab45dc-88ce-45b6-ec33-b36c5e3d81af"
      },
      "execution_count": null,
      "outputs": [
        {
          "metadata": {
            "tags": null
          },
          "name": "stdout",
          "output_type": "stream",
          "text": [
            "Epoch 1/50\n"
          ]
        },
        {
          "metadata": {
            "tags": null
          },
          "name": "stderr",
          "output_type": "stream",
          "text": [
            "/usr/local/lib/python3.7/dist-packages/tensorflow/python/util/dispatch.py:1082: UserWarning: \"`binary_crossentropy` received `from_logits=True`, but the `output` argument was produced by a sigmoid or softmax activation and thus does not represent logits. Was this intended?\"\n",
            "  return dispatch_target(*args, **kwargs)\n"
          ]
        },
        {
          "output_type": "stream",
          "name": "stdout",
          "text": [
            "782/782 [==============================] - 79s 100ms/step - loss: 0.6943 - accuracy: 0.5016 - val_loss: 0.6931 - val_accuracy: 0.4972\n",
            "Epoch 2/50\n",
            "782/782 [==============================] - 78s 99ms/step - loss: 0.6929 - accuracy: 0.5111 - val_loss: 0.6930 - val_accuracy: 0.5020\n",
            "Epoch 3/50\n",
            "782/782 [==============================] - 79s 101ms/step - loss: 0.6920 - accuracy: 0.5238 - val_loss: 0.6929 - val_accuracy: 0.5062\n",
            "Epoch 4/50\n",
            "782/782 [==============================] - 78s 100ms/step - loss: 0.6907 - accuracy: 0.5358 - val_loss: 0.6926 - val_accuracy: 0.5113\n",
            "Epoch 5/50\n",
            "782/782 [==============================] - 78s 99ms/step - loss: 0.6849 - accuracy: 0.5412 - val_loss: 0.6812 - val_accuracy: 0.5510\n",
            "Epoch 6/50\n",
            "782/782 [==============================] - 79s 101ms/step - loss: 0.6501 - accuracy: 0.6271 - val_loss: 0.6419 - val_accuracy: 0.6544\n",
            "Epoch 7/50\n",
            "782/782 [==============================] - 78s 99ms/step - loss: 0.6094 - accuracy: 0.7084 - val_loss: 0.6176 - val_accuracy: 0.7038\n",
            "Epoch 8/50\n",
            "782/782 [==============================] - 78s 100ms/step - loss: 0.5781 - accuracy: 0.7454 - val_loss: 0.5931 - val_accuracy: 0.7322\n",
            "Epoch 9/50\n",
            "782/782 [==============================] - 78s 100ms/step - loss: 0.5528 - accuracy: 0.7661 - val_loss: 0.5751 - val_accuracy: 0.7406\n",
            "Epoch 10/50\n",
            "782/782 [==============================] - 77s 99ms/step - loss: 0.5304 - accuracy: 0.7799 - val_loss: 0.5620 - val_accuracy: 0.7478\n",
            "Epoch 11/50\n",
            "782/782 [==============================] - 78s 100ms/step - loss: 0.5091 - accuracy: 0.7923 - val_loss: 0.5517 - val_accuracy: 0.7529\n",
            "Epoch 12/50\n",
            "782/782 [==============================] - 78s 99ms/step - loss: 0.4886 - accuracy: 0.8006 - val_loss: 0.5434 - val_accuracy: 0.7550\n",
            "Epoch 13/50\n",
            "782/782 [==============================] - 77s 99ms/step - loss: 0.4680 - accuracy: 0.8082 - val_loss: 0.5426 - val_accuracy: 0.7573\n",
            "Epoch 14/50\n",
            "782/782 [==============================] - 78s 100ms/step - loss: 0.4496 - accuracy: 0.8146 - val_loss: 0.5391 - val_accuracy: 0.7592\n",
            "Epoch 15/50\n",
            "782/782 [==============================] - 77s 99ms/step - loss: 0.4343 - accuracy: 0.8204 - val_loss: 0.5373 - val_accuracy: 0.7594\n",
            "Epoch 16/50\n",
            "782/782 [==============================] - 76s 97ms/step - loss: 0.4220 - accuracy: 0.8261 - val_loss: 0.5370 - val_accuracy: 0.7566\n",
            "Epoch 17/50\n",
            "782/782 [==============================] - 77s 98ms/step - loss: 0.4121 - accuracy: 0.8292 - val_loss: 0.5455 - val_accuracy: 0.7614\n",
            "Epoch 18/50\n",
            "782/782 [==============================] - 78s 99ms/step - loss: 0.4017 - accuracy: 0.8356 - val_loss: 0.5528 - val_accuracy: 0.7614\n",
            "Epoch 19/50\n",
            "782/782 [==============================] - 77s 99ms/step - loss: 0.3932 - accuracy: 0.8406 - val_loss: 0.5468 - val_accuracy: 0.7586\n",
            "Epoch 20/50\n",
            "782/782 [==============================] - 77s 99ms/step - loss: 0.3854 - accuracy: 0.8448 - val_loss: 0.5495 - val_accuracy: 0.7586\n",
            "Epoch 21/50\n",
            "782/782 [==============================] - 77s 98ms/step - loss: 0.3784 - accuracy: 0.8479 - val_loss: 0.5565 - val_accuracy: 0.7597\n",
            "Epoch 22/50\n",
            "782/782 [==============================] - 78s 99ms/step - loss: 0.3726 - accuracy: 0.8514 - val_loss: 0.5636 - val_accuracy: 0.7610\n",
            "Epoch 23/50\n",
            "782/782 [==============================] - 81s 103ms/step - loss: 0.3661 - accuracy: 0.8546 - val_loss: 0.5621 - val_accuracy: 0.7602\n",
            "Epoch 24/50\n",
            "782/782 [==============================] - 78s 99ms/step - loss: 0.3604 - accuracy: 0.8581 - val_loss: 0.5638 - val_accuracy: 0.7590\n",
            "Epoch 25/50\n",
            "782/782 [==============================] - 91s 116ms/step - loss: 0.3553 - accuracy: 0.8608 - val_loss: 0.5771 - val_accuracy: 0.7600\n",
            "Epoch 26/50\n",
            "782/782 [==============================] - 78s 100ms/step - loss: 0.3498 - accuracy: 0.8637 - val_loss: 0.5703 - val_accuracy: 0.7576\n",
            "Epoch 27/50\n",
            "782/782 [==============================] - 77s 98ms/step - loss: 0.3461 - accuracy: 0.8659 - val_loss: 0.5753 - val_accuracy: 0.7580\n",
            "Epoch 28/50\n",
            "782/782 [==============================] - 78s 100ms/step - loss: 0.3404 - accuracy: 0.8688 - val_loss: 0.5887 - val_accuracy: 0.7581\n",
            "Epoch 29/50\n",
            "782/782 [==============================] - 78s 100ms/step - loss: 0.3370 - accuracy: 0.8699 - val_loss: 0.5842 - val_accuracy: 0.7556\n",
            "Epoch 30/50\n",
            "782/782 [==============================] - 79s 101ms/step - loss: 0.3313 - accuracy: 0.8727 - val_loss: 0.5897 - val_accuracy: 0.7554\n",
            "Epoch 31/50\n",
            "782/782 [==============================] - 80s 102ms/step - loss: 0.3279 - accuracy: 0.8730 - val_loss: 0.6062 - val_accuracy: 0.7584\n",
            "Epoch 32/50\n",
            "782/782 [==============================] - 80s 102ms/step - loss: 0.3236 - accuracy: 0.8766 - val_loss: 0.6150 - val_accuracy: 0.7580\n",
            "Epoch 33/50\n",
            "782/782 [==============================] - 79s 101ms/step - loss: 0.3205 - accuracy: 0.8776 - val_loss: 0.6065 - val_accuracy: 0.7576\n",
            "Epoch 34/50\n",
            "782/782 [==============================] - 81s 103ms/step - loss: 0.3146 - accuracy: 0.8815 - val_loss: 0.6119 - val_accuracy: 0.7553\n",
            "Epoch 35/50\n",
            "782/782 [==============================] - 80s 102ms/step - loss: 0.3116 - accuracy: 0.8821 - val_loss: 0.6359 - val_accuracy: 0.7559\n",
            "Epoch 36/50\n",
            "782/782 [==============================] - 80s 102ms/step - loss: 0.3078 - accuracy: 0.8840 - val_loss: 0.6270 - val_accuracy: 0.7568\n",
            "Epoch 37/50\n",
            "782/782 [==============================] - 80s 103ms/step - loss: 0.3040 - accuracy: 0.8857 - val_loss: 0.6306 - val_accuracy: 0.7558\n",
            "Epoch 38/50\n",
            "782/782 [==============================] - 80s 102ms/step - loss: 0.3009 - accuracy: 0.8869 - val_loss: 0.6353 - val_accuracy: 0.7558\n",
            "Epoch 39/50\n",
            "782/782 [==============================] - 80s 102ms/step - loss: 0.2967 - accuracy: 0.8906 - val_loss: 0.6352 - val_accuracy: 0.7527\n",
            "Epoch 40/50\n",
            "782/782 [==============================] - 80s 103ms/step - loss: 0.2925 - accuracy: 0.8920 - val_loss: 0.6388 - val_accuracy: 0.7502\n",
            "Epoch 41/50\n",
            "782/782 [==============================] - 79s 101ms/step - loss: 0.2891 - accuracy: 0.8944 - val_loss: 0.6495 - val_accuracy: 0.7519\n",
            "Epoch 42/50\n",
            "782/782 [==============================] - 80s 102ms/step - loss: 0.2869 - accuracy: 0.8941 - val_loss: 0.6565 - val_accuracy: 0.7518\n",
            "Epoch 43/50\n",
            "782/782 [==============================] - 80s 102ms/step - loss: 0.2839 - accuracy: 0.8953 - val_loss: 0.6530 - val_accuracy: 0.7497\n",
            "Epoch 44/50\n",
            "782/782 [==============================] - 79s 101ms/step - loss: 0.2791 - accuracy: 0.8979 - val_loss: 0.6675 - val_accuracy: 0.7510\n",
            "Epoch 45/50\n",
            "782/782 [==============================] - 80s 102ms/step - loss: 0.2773 - accuracy: 0.9003 - val_loss: 0.6699 - val_accuracy: 0.7494\n",
            "Epoch 46/50\n",
            "782/782 [==============================] - 80s 102ms/step - loss: 0.2737 - accuracy: 0.9001 - val_loss: 0.6802 - val_accuracy: 0.7500\n",
            "Epoch 47/50\n",
            "782/782 [==============================] - 79s 101ms/step - loss: 0.2717 - accuracy: 0.9021 - val_loss: 0.6825 - val_accuracy: 0.7489\n",
            "Epoch 48/50\n",
            "782/782 [==============================] - 80s 102ms/step - loss: 0.2685 - accuracy: 0.9023 - val_loss: 0.6971 - val_accuracy: 0.7483\n",
            "Epoch 49/50\n",
            "782/782 [==============================] - 79s 101ms/step - loss: 0.2655 - accuracy: 0.9049 - val_loss: 0.7035 - val_accuracy: 0.7487\n",
            "Epoch 50/50\n",
            "782/782 [==============================] - 79s 101ms/step - loss: 0.2626 - accuracy: 0.9057 - val_loss: 0.7100 - val_accuracy: 0.7496\n"
          ]
        }
      ]
    },
    {
      "cell_type": "code",
      "source": [
        "plt.plot(history.history[\"loss\"][:])\n",
        "plt.plot(history.history[\"val_loss\"][:])\n",
        "plt.title('model loss')\n",
        "plt.ylabel('loss')\n",
        "plt.xlabel('epoch')\n",
        "plt.legend(['train','val'], loc = 'upper left')\n",
        "plt.show()"
      ],
      "metadata": {
        "colab": {
          "base_uri": "https://localhost:8080/",
          "height": 295
        },
        "id": "pVD9pxjn_wEs",
        "outputId": "41cb5361-b6be-48ba-8561-19a21e31fe7d"
      },
      "execution_count": null,
      "outputs": [
        {
          "output_type": "display_data",
          "data": {
            "text/plain": [
              "<Figure size 432x288 with 1 Axes>"
            ],
            "image/png": "[encoded data removed]"
          },
          "metadata": {
            "needs_background": "light"
          }
        }
      ]
    },
    {
      "cell_type": "code",
      "source": [
        "plt.plot(history.history[\"accuracy\"][:])\n",
        "plt.plot(history.history[\"val_accuracy\"][:])\n",
        "plt.title('model accuracy')\n",
        "plt.ylabel('accuracy')\n",
        "plt.xlabel('epoch')\n",
        "plt.legend(['train','val'], loc = 'upper left')\n",
        "plt.show()"
      ],
      "metadata": {
        "id": "gMfkKzs-19cw",
        "colab": {
          "base_uri": "https://localhost:8080/",
          "height": 295
        },
        "outputId": "fca9e5f8-057c-486b-812d-c4e7254dcd06"
      },
      "execution_count": null,
      "outputs": [
        {
          "output_type": "display_data",
          "data": {
            "text/plain": [
              "<Figure size 432x288 with 1 Axes>"
            ],
            "image/png": "[encoded data removed]"
          },
          "metadata": {
            "needs_background": "light"
          }
        }
      ]
    },
    {
      "cell_type": "code",
      "source": [
        "test_data = tf.data.Dataset.from_tensor_slices([[\"i love it\"],[\"i dont like movie\"]\n",
        "])"
      ],
      "metadata": {
        "id": "5YFx17_FBgqU"
      },
      "execution_count": null,
      "outputs": []
    },
    {
      "cell_type": "code",
      "source": [
        "def vectorizer_test(review):\n",
        "    return tf.one_hot(vectorize_layer(review),depth=VOCAB_SIZE)\n",
        "\n",
        "test_dataset=test_data.map(vectorizer_test)\n",
        "model.predict(test_dataset)"
      ],
      "metadata": {
        "colab": {
          "base_uri": "https://localhost:8080/"
        },
        "id": "p0ZDrLH6B2MK",
        "outputId": "7bf8790b-23c4-45c9-b020-e17aad1bd5d5"
      },
      "execution_count": null,
      "outputs": [
        {
          "output_type": "execute_result",
          "data": {
            "text/plain": [
              "array([[0.9695122],\n",
              "       [0.7549498]], dtype=float32)"
            ]
          },
          "metadata": {},
          "execution_count": 49
        }
      ]
    },
    {
      "cell_type": "markdown",
      "source": [
        "#Embedding"
      ],
      "metadata": {
        "id": "dXmjuWEZi58p"
      }
    },
    {
      "cell_type": "code",
      "source": [
        "input = tf.zeros([2000])\n",
        "layer = Embedding(2, 100)\n",
        "\n",
        "output = layer(input)\n",
        "print(output[0].shape)\n",
        "print(output[1].shape)\n",
        "print(output[2].shape)\n",
        "print(output.shape)"
      ],
      "metadata": {
        "colab": {
          "base_uri": "https://localhost:8080/"
        },
        "id": "cNVwULECi76x",
        "outputId": "65a31f7d-f193-4c50-cd4e-5d0eaacb7520"
      },
      "execution_count": null,
      "outputs": [
        {
          "output_type": "stream",
          "name": "stdout",
          "text": [
            "(100,)\n",
            "(100,)\n",
            "(100,)\n",
            "(2000, 100)\n"
          ]
        }
      ]
    },
    {
      "cell_type": "code",
      "source": [
        "input = tf.keras.layers.Input(shape = (SEQUENCE_LENGTH,),)\n",
        "embedding_size = 100\n",
        "embedding = Embedding(VOCAB_SIZE, embedding_size)\n",
        "model1 = tf.keras.models.Sequential([\n",
        "                                     input,\n",
        "                                     embedding,\n",
        "                                     LSTM(20, activation = 'tanh', use_bias = True, return_sequences=True, name = \"layer1\"),\n",
        "                                     Dense(1, activation = \"relu\", name=\"layer2\"),\n",
        "                                     Reshape((SEQUENCE_LENGTH,), name = \"layer3\"),\n",
        "                                     Dense(1, activation = \"sigmoid\", name = \"layer4\")\n",
        " ])\n",
        "model1.summary()\n",
        "\n",
        "LR = 1e-4\n",
        "EPOCH = 50\n",
        "\n",
        "model1.compile(\n",
        "    loss = tf.keras.losses.BinaryCrossentropy(from_logits = True),\n",
        "    optimizer = tf.keras.optimizers.Adam(lr = LR,),\n",
        "    metrics = [\"accuracy\"],\n",
        ")\n",
        "checkpoint_filepath  = \"lstm_embeding.hdf5\"\n",
        "\n",
        "#checkpoint_filepath=\"imdb/basic_rnn.hdf5\"\n",
        "callback=tf.keras.callbacks.ModelCheckpoint(\n",
        "   filepath=checkpoint_filepath,### WHERE BEST WEIGHTS ARE STORED\n",
        "    save_weights_only=True,\n",
        "   monitor=\"val_loss\",\n",
        "   mode='min',\n",
        "    save_best_only=True)\n",
        "#Train model on dataset\n",
        "history=model1.fit(train_dataset,validation_data=val_dataset,verbose=1,epochs=EPOCH,callbacks=[callback])#\n",
        "\n",
        "plt.plot(history.history[\"loss\"][:])\n",
        "plt.plot(history.history[\"val_loss\"][:])\n",
        "plt.title('model loss')\n",
        "plt.ylabel('loss')\n",
        "plt.xlabel('epoch')\n",
        "plt.legend(['train','val'], loc = 'upper left')\n",
        "plt.show()\n",
        "\n",
        "plt.plot(history.history[\"accuracy\"][:])\n",
        "plt.plot(history.history[\"val_accuracy\"][:])\n",
        "plt.title('model accuracy')\n",
        "plt.ylabel('accuracy')\n",
        "plt.xlabel('epoch')\n",
        "plt.legend(['train','val'], loc = 'upper left')\n",
        "plt.show()"
      ],
      "metadata": {
        "colab": {
          "base_uri": "https://localhost:8080/",
          "height": 1000
        },
        "id": "qzH_4grtlQqi",
        "outputId": "4688be79-7cab-47a9-b00b-545695e7cb7a"
      },
      "execution_count": null,
      "outputs": [
        {
          "output_type": "stream",
          "name": "stdout",
          "text": [
            "Model: \"sequential_37\"\n",
            "_________________________________________________________________\n",
            " Layer (type)                Output Shape              Param #   \n",
            "=================================================================\n",
            " embedding_41 (Embedding)    (None, 100, 100)          200000    \n",
            "                                                                 \n",
            " layer1 (LSTM)               (None, 100, 20)           9680      \n",
            "                                                                 \n",
            " layer2 (Dense)              (None, 100, 1)            21        \n",
            "                                                                 \n",
            " layer3 (Reshape)            (None, 100)               0         \n",
            "                                                                 \n",
            " layer4 (Dense)              (None, 1)                 101       \n",
            "                                                                 \n",
            "=================================================================\n",
            "Total params: 209,802\n",
            "Trainable params: 209,802\n",
            "Non-trainable params: 0\n",
            "_________________________________________________________________\n",
            "Epoch 1/50\n"
          ]
        },
        {
          "output_type": "stream",
          "name": "stderr",
          "text": [
            "/usr/local/lib/python3.7/dist-packages/keras/optimizer_v2/adam.py:105: UserWarning: The `lr` argument is deprecated, use `learning_rate` instead.\n",
            "  super(Adam, self).__init__(name, **kwargs)\n",
            "/usr/local/lib/python3.7/dist-packages/tensorflow/python/util/dispatch.py:1082: UserWarning: \"`binary_crossentropy` received `from_logits=True`, but the `output` argument was produced by a sigmoid or softmax activation and thus does not represent logits. Was this intended?\"\n",
            "  return dispatch_target(*args, **kwargs)\n"
          ]
        },
        {
          "output_type": "error",
          "ename": "KeyboardInterrupt",
          "evalue": "ignored",
          "traceback": [
            "\u001b[0;31m---------------------------------------------------------------------------\u001b[0m",
            "\u001b[0;31mInvalidArgumentError\u001b[0m                      Traceback (most recent call last)",
            "\u001b[0;32m/usr/local/lib/python3.7/dist-packages/tensorflow/python/framework/ops.py\u001b[0m in \u001b[0;36mget_attr\u001b[0;34m(self, name)\u001b[0m\n\u001b[1;32m   2689\u001b[0m       \u001b[0;32mwith\u001b[0m \u001b[0mc_api_util\u001b[0m\u001b[0;34m.\u001b[0m\u001b[0mtf_buffer\u001b[0m\u001b[0;34m(\u001b[0m\u001b[0;34m)\u001b[0m \u001b[0;32mas\u001b[0m \u001b[0mbuf\u001b[0m\u001b[0;34m:\u001b[0m\u001b[0;34m\u001b[0m\u001b[0;34m\u001b[0m\u001b[0m\n\u001b[0;32m-> 2690\u001b[0;31m         \u001b[0mpywrap_tf_session\u001b[0m\u001b[0;34m.\u001b[0m\u001b[0mTF_OperationGetAttrValueProto\u001b[0m\u001b[0;34m(\u001b[0m\u001b[0mself\u001b[0m\u001b[0;34m.\u001b[0m\u001b[0m_c_op\u001b[0m\u001b[0;34m,\u001b[0m \u001b[0mname\u001b[0m\u001b[0;34m,\u001b[0m \u001b[0mbuf\u001b[0m\u001b[0;34m)\u001b[0m\u001b[0;34m\u001b[0m\u001b[0;34m\u001b[0m\u001b[0m\n\u001b[0m\u001b[1;32m   2691\u001b[0m         \u001b[0mdata\u001b[0m \u001b[0;34m=\u001b[0m \u001b[0mpywrap_tf_session\u001b[0m\u001b[0;34m.\u001b[0m\u001b[0mTF_GetBuffer\u001b[0m\u001b[0;34m(\u001b[0m\u001b[0mbuf\u001b[0m\u001b[0;34m)\u001b[0m\u001b[0;34m\u001b[0m\u001b[0;34m\u001b[0m\u001b[0m\n",
            "\u001b[0;31mInvalidArgumentError\u001b[0m: Operation 'Adam/Adam/update_6/ResourceApplyAdam/v' has no attr named '_read_only_resource_inputs'.",
            "\nDuring handling of the above exception, another exception occurred:\n",
            "\u001b[0;31mValueError\u001b[0m                                Traceback (most recent call last)",
            "\u001b[0;32m/usr/local/lib/python3.7/dist-packages/tensorflow/python/framework/auto_control_deps_utils.py\u001b[0m in \u001b[0;36mget_read_write_resource_inputs\u001b[0;34m(op)\u001b[0m\n\u001b[1;32m    104\u001b[0m   \u001b[0;32mtry\u001b[0m\u001b[0;34m:\u001b[0m\u001b[0;34m\u001b[0m\u001b[0;34m\u001b[0m\u001b[0m\n\u001b[0;32m--> 105\u001b[0;31m     \u001b[0mread_only_input_indices\u001b[0m \u001b[0;34m=\u001b[0m \u001b[0mop\u001b[0m\u001b[0;34m.\u001b[0m\u001b[0mget_attr\u001b[0m\u001b[0;34m(\u001b[0m\u001b[0mREAD_ONLY_RESOURCE_INPUTS_ATTR\u001b[0m\u001b[0;34m)\u001b[0m\u001b[0;34m\u001b[0m\u001b[0;34m\u001b[0m\u001b[0m\n\u001b[0m\u001b[1;32m    106\u001b[0m   \u001b[0;32mexcept\u001b[0m \u001b[0mValueError\u001b[0m\u001b[0;34m:\u001b[0m\u001b[0;34m\u001b[0m\u001b[0;34m\u001b[0m\u001b[0m\n",
            "\u001b[0;32m/usr/local/lib/python3.7/dist-packages/tensorflow/python/framework/ops.py\u001b[0m in \u001b[0;36mget_attr\u001b[0;34m(self, name)\u001b[0m\n\u001b[1;32m   2693\u001b[0m       \u001b[0;31m# Convert to ValueError for backwards compatibility.\u001b[0m\u001b[0;34m\u001b[0m\u001b[0;34m\u001b[0m\u001b[0;34m\u001b[0m\u001b[0m\n\u001b[0;32m-> 2694\u001b[0;31m       \u001b[0;32mraise\u001b[0m \u001b[0mValueError\u001b[0m\u001b[0;34m(\u001b[0m\u001b[0me\u001b[0m\u001b[0;34m.\u001b[0m\u001b[0mmessage\u001b[0m\u001b[0;34m)\u001b[0m\u001b[0;34m\u001b[0m\u001b[0;34m\u001b[0m\u001b[0m\n\u001b[0m\u001b[1;32m   2695\u001b[0m     \u001b[0mx\u001b[0m \u001b[0;34m=\u001b[0m \u001b[0mattr_value_pb2\u001b[0m\u001b[0;34m.\u001b[0m\u001b[0mAttrValue\u001b[0m\u001b[0;34m(\u001b[0m\u001b[0;34m)\u001b[0m\u001b[0;34m\u001b[0m\u001b[0;34m\u001b[0m\u001b[0m\n",
            "\u001b[0;31mValueError\u001b[0m: Operation 'Adam/Adam/update_6/ResourceApplyAdam/v' has no attr named '_read_only_resource_inputs'.",
            "\nDuring handling of the above exception, another exception occurred:\n",
            "\u001b[0;31mKeyboardInterrupt\u001b[0m                         Traceback (most recent call last)",
            "\u001b[0;32m/usr/local/lib/python3.7/dist-packages/zmq/backend/cython/checkrc.pxd\u001b[0m in \u001b[0;36mzmq.backend.cython.checkrc._check_rc\u001b[0;34m()\u001b[0m\n",
            "\u001b[0;31mKeyboardInterrupt\u001b[0m: "
          ]
        },
        {
          "output_type": "stream",
          "name": "stderr",
          "text": [
            "Exception ignored in: 'zmq.backend.cython.message.Frame.__dealloc__'\n",
            "Traceback (most recent call last):\n",
            "  File \"zmq/backend/cython/checkrc.pxd\", line 13, in zmq.backend.cython.checkrc._check_rc\n",
            "KeyboardInterrupt: \n"
          ]
        },
        {
          "output_type": "stream",
          "name": "stdout",
          "text": [
            "585/782 [=====================>........] - ETA: 11s - loss: 0.6708 - accuracy: 0.5372"
          ]
        },
        {
          "output_type": "error",
          "ename": "KeyboardInterrupt",
          "evalue": "ignored",
          "traceback": [
            "\u001b[0;31m---------------------------------------------------------------------------\u001b[0m",
            "\u001b[0;31mKeyboardInterrupt\u001b[0m                         Traceback (most recent call last)",
            "\u001b[0;32m<ipython-input-92-8b1ae126cb3b>\u001b[0m in \u001b[0;36m<module>\u001b[0;34m()\u001b[0m\n\u001b[1;32m     30\u001b[0m     save_best_only=True)\n\u001b[1;32m     31\u001b[0m \u001b[0;31m#Train model on dataset\u001b[0m\u001b[0;34m\u001b[0m\u001b[0;34m\u001b[0m\u001b[0;34m\u001b[0m\u001b[0m\n\u001b[0;32m---> 32\u001b[0;31m \u001b[0mhistory\u001b[0m\u001b[0;34m=\u001b[0m\u001b[0mmodel1\u001b[0m\u001b[0;34m.\u001b[0m\u001b[0mfit\u001b[0m\u001b[0;34m(\u001b[0m\u001b[0mtrain_dataset\u001b[0m\u001b[0;34m,\u001b[0m\u001b[0mvalidation_data\u001b[0m\u001b[0;34m=\u001b[0m\u001b[0mval_dataset\u001b[0m\u001b[0;34m,\u001b[0m\u001b[0mverbose\u001b[0m\u001b[0;34m=\u001b[0m\u001b[0;36m1\u001b[0m\u001b[0;34m,\u001b[0m\u001b[0mepochs\u001b[0m\u001b[0;34m=\u001b[0m\u001b[0mEPOCH\u001b[0m\u001b[0;34m,\u001b[0m\u001b[0mcallbacks\u001b[0m\u001b[0;34m=\u001b[0m\u001b[0;34m[\u001b[0m\u001b[0mcallback\u001b[0m\u001b[0;34m]\u001b[0m\u001b[0;34m)\u001b[0m\u001b[0;31m#\u001b[0m\u001b[0;34m\u001b[0m\u001b[0;34m\u001b[0m\u001b[0m\n\u001b[0m\u001b[1;32m     33\u001b[0m \u001b[0;34m\u001b[0m\u001b[0m\n\u001b[1;32m     34\u001b[0m \u001b[0mplt\u001b[0m\u001b[0;34m.\u001b[0m\u001b[0mplot\u001b[0m\u001b[0;34m(\u001b[0m\u001b[0mhistory\u001b[0m\u001b[0;34m.\u001b[0m\u001b[0mhistory\u001b[0m\u001b[0;34m[\u001b[0m\u001b[0;34m\"loss\"\u001b[0m\u001b[0;34m]\u001b[0m\u001b[0;34m[\u001b[0m\u001b[0;34m:\u001b[0m\u001b[0;34m]\u001b[0m\u001b[0;34m)\u001b[0m\u001b[0;34m\u001b[0m\u001b[0;34m\u001b[0m\u001b[0m\n",
            "\u001b[0;32m/usr/local/lib/python3.7/dist-packages/keras/utils/traceback_utils.py\u001b[0m in \u001b[0;36merror_handler\u001b[0;34m(*args, **kwargs)\u001b[0m\n\u001b[1;32m     62\u001b[0m     \u001b[0mfiltered_tb\u001b[0m \u001b[0;34m=\u001b[0m \u001b[0;32mNone\u001b[0m\u001b[0;34m\u001b[0m\u001b[0;34m\u001b[0m\u001b[0m\n\u001b[1;32m     63\u001b[0m     \u001b[0;32mtry\u001b[0m\u001b[0;34m:\u001b[0m\u001b[0;34m\u001b[0m\u001b[0;34m\u001b[0m\u001b[0m\n\u001b[0;32m---> 64\u001b[0;31m       \u001b[0;32mreturn\u001b[0m \u001b[0mfn\u001b[0m\u001b[0;34m(\u001b[0m\u001b[0;34m*\u001b[0m\u001b[0margs\u001b[0m\u001b[0;34m,\u001b[0m \u001b[0;34m**\u001b[0m\u001b[0mkwargs\u001b[0m\u001b[0;34m)\u001b[0m\u001b[0;34m\u001b[0m\u001b[0;34m\u001b[0m\u001b[0m\n\u001b[0m\u001b[1;32m     65\u001b[0m     \u001b[0;32mexcept\u001b[0m \u001b[0mException\u001b[0m \u001b[0;32mas\u001b[0m \u001b[0me\u001b[0m\u001b[0;34m:\u001b[0m  \u001b[0;31m# pylint: disable=broad-except\u001b[0m\u001b[0;34m\u001b[0m\u001b[0;34m\u001b[0m\u001b[0m\n\u001b[1;32m     66\u001b[0m       \u001b[0mfiltered_tb\u001b[0m \u001b[0;34m=\u001b[0m \u001b[0m_process_traceback_frames\u001b[0m\u001b[0;34m(\u001b[0m\u001b[0me\u001b[0m\u001b[0;34m.\u001b[0m\u001b[0m__traceback__\u001b[0m\u001b[0;34m)\u001b[0m\u001b[0;34m\u001b[0m\u001b[0;34m\u001b[0m\u001b[0m\n",
            "\u001b[0;32m/usr/local/lib/python3.7/dist-packages/keras/engine/training.py\u001b[0m in \u001b[0;36mfit\u001b[0;34m(self, x, y, batch_size, epochs, verbose, callbacks, validation_split, validation_data, shuffle, class_weight, sample_weight, initial_epoch, steps_per_epoch, validation_steps, validation_batch_size, validation_freq, max_queue_size, workers, use_multiprocessing)\u001b[0m\n\u001b[1;32m   1382\u001b[0m                 _r=1):\n\u001b[1;32m   1383\u001b[0m               \u001b[0mcallbacks\u001b[0m\u001b[0;34m.\u001b[0m\u001b[0mon_train_batch_begin\u001b[0m\u001b[0;34m(\u001b[0m\u001b[0mstep\u001b[0m\u001b[0;34m)\u001b[0m\u001b[0;34m\u001b[0m\u001b[0;34m\u001b[0m\u001b[0m\n\u001b[0;32m-> 1384\u001b[0;31m               \u001b[0mtmp_logs\u001b[0m \u001b[0;34m=\u001b[0m \u001b[0mself\u001b[0m\u001b[0;34m.\u001b[0m\u001b[0mtrain_function\u001b[0m\u001b[0;34m(\u001b[0m\u001b[0miterator\u001b[0m\u001b[0;34m)\u001b[0m\u001b[0;34m\u001b[0m\u001b[0;34m\u001b[0m\u001b[0m\n\u001b[0m\u001b[1;32m   1385\u001b[0m               \u001b[0;32mif\u001b[0m \u001b[0mdata_handler\u001b[0m\u001b[0;34m.\u001b[0m\u001b[0mshould_sync\u001b[0m\u001b[0;34m:\u001b[0m\u001b[0;34m\u001b[0m\u001b[0;34m\u001b[0m\u001b[0m\n\u001b[1;32m   1386\u001b[0m                 \u001b[0mcontext\u001b[0m\u001b[0;34m.\u001b[0m\u001b[0masync_wait\u001b[0m\u001b[0;34m(\u001b[0m\u001b[0;34m)\u001b[0m\u001b[0;34m\u001b[0m\u001b[0;34m\u001b[0m\u001b[0m\n",
            "\u001b[0;32m/usr/local/lib/python3.7/dist-packages/tensorflow/python/util/traceback_utils.py\u001b[0m in \u001b[0;36merror_handler\u001b[0;34m(*args, **kwargs)\u001b[0m\n\u001b[1;32m    148\u001b[0m     \u001b[0mfiltered_tb\u001b[0m \u001b[0;34m=\u001b[0m \u001b[0;32mNone\u001b[0m\u001b[0;34m\u001b[0m\u001b[0;34m\u001b[0m\u001b[0m\n\u001b[1;32m    149\u001b[0m     \u001b[0;32mtry\u001b[0m\u001b[0;34m:\u001b[0m\u001b[0;34m\u001b[0m\u001b[0;34m\u001b[0m\u001b[0m\n\u001b[0;32m--> 150\u001b[0;31m       \u001b[0;32mreturn\u001b[0m \u001b[0mfn\u001b[0m\u001b[0;34m(\u001b[0m\u001b[0;34m*\u001b[0m\u001b[0margs\u001b[0m\u001b[0;34m,\u001b[0m \u001b[0;34m**\u001b[0m\u001b[0mkwargs\u001b[0m\u001b[0;34m)\u001b[0m\u001b[0;34m\u001b[0m\u001b[0;34m\u001b[0m\u001b[0m\n\u001b[0m\u001b[1;32m    151\u001b[0m     \u001b[0;32mexcept\u001b[0m \u001b[0mException\u001b[0m \u001b[0;32mas\u001b[0m \u001b[0me\u001b[0m\u001b[0;34m:\u001b[0m\u001b[0;34m\u001b[0m\u001b[0;34m\u001b[0m\u001b[0m\n\u001b[1;32m    152\u001b[0m       \u001b[0mfiltered_tb\u001b[0m \u001b[0;34m=\u001b[0m \u001b[0m_process_traceback_frames\u001b[0m\u001b[0;34m(\u001b[0m\u001b[0me\u001b[0m\u001b[0;34m.\u001b[0m\u001b[0m__traceback__\u001b[0m\u001b[0;34m)\u001b[0m\u001b[0;34m\u001b[0m\u001b[0;34m\u001b[0m\u001b[0m\n",
            "\u001b[0;32m/usr/local/lib/python3.7/dist-packages/tensorflow/python/eager/def_function.py\u001b[0m in \u001b[0;36m__call__\u001b[0;34m(self, *args, **kwds)\u001b[0m\n\u001b[1;32m    913\u001b[0m \u001b[0;34m\u001b[0m\u001b[0m\n\u001b[1;32m    914\u001b[0m       \u001b[0;32mwith\u001b[0m \u001b[0mOptionalXlaContext\u001b[0m\u001b[0;34m(\u001b[0m\u001b[0mself\u001b[0m\u001b[0;34m.\u001b[0m\u001b[0m_jit_compile\u001b[0m\u001b[0;34m)\u001b[0m\u001b[0;34m:\u001b[0m\u001b[0;34m\u001b[0m\u001b[0;34m\u001b[0m\u001b[0m\n\u001b[0;32m--> 915\u001b[0;31m         \u001b[0mresult\u001b[0m \u001b[0;34m=\u001b[0m \u001b[0mself\u001b[0m\u001b[0;34m.\u001b[0m\u001b[0m_call\u001b[0m\u001b[0;34m(\u001b[0m\u001b[0;34m*\u001b[0m\u001b[0margs\u001b[0m\u001b[0;34m,\u001b[0m \u001b[0;34m**\u001b[0m\u001b[0mkwds\u001b[0m\u001b[0;34m)\u001b[0m\u001b[0;34m\u001b[0m\u001b[0;34m\u001b[0m\u001b[0m\n\u001b[0m\u001b[1;32m    916\u001b[0m \u001b[0;34m\u001b[0m\u001b[0m\n\u001b[1;32m    917\u001b[0m       \u001b[0mnew_tracing_count\u001b[0m \u001b[0;34m=\u001b[0m \u001b[0mself\u001b[0m\u001b[0;34m.\u001b[0m\u001b[0mexperimental_get_tracing_count\u001b[0m\u001b[0;34m(\u001b[0m\u001b[0;34m)\u001b[0m\u001b[0;34m\u001b[0m\u001b[0;34m\u001b[0m\u001b[0m\n",
            "\u001b[0;32m/usr/local/lib/python3.7/dist-packages/tensorflow/python/eager/def_function.py\u001b[0m in \u001b[0;36m_call\u001b[0;34m(self, *args, **kwds)\u001b[0m\n\u001b[1;32m    945\u001b[0m       \u001b[0;31m# In this case we have created variables on the first call, so we run the\u001b[0m\u001b[0;34m\u001b[0m\u001b[0;34m\u001b[0m\u001b[0;34m\u001b[0m\u001b[0m\n\u001b[1;32m    946\u001b[0m       \u001b[0;31m# defunned version which is guaranteed to never create variables.\u001b[0m\u001b[0;34m\u001b[0m\u001b[0;34m\u001b[0m\u001b[0;34m\u001b[0m\u001b[0m\n\u001b[0;32m--> 947\u001b[0;31m       \u001b[0;32mreturn\u001b[0m \u001b[0mself\u001b[0m\u001b[0;34m.\u001b[0m\u001b[0m_stateless_fn\u001b[0m\u001b[0;34m(\u001b[0m\u001b[0;34m*\u001b[0m\u001b[0margs\u001b[0m\u001b[0;34m,\u001b[0m \u001b[0;34m**\u001b[0m\u001b[0mkwds\u001b[0m\u001b[0;34m)\u001b[0m  \u001b[0;31m# pylint: disable=not-callable\u001b[0m\u001b[0;34m\u001b[0m\u001b[0;34m\u001b[0m\u001b[0m\n\u001b[0m\u001b[1;32m    948\u001b[0m     \u001b[0;32melif\u001b[0m \u001b[0mself\u001b[0m\u001b[0;34m.\u001b[0m\u001b[0m_stateful_fn\u001b[0m \u001b[0;32mis\u001b[0m \u001b[0;32mnot\u001b[0m \u001b[0;32mNone\u001b[0m\u001b[0;34m:\u001b[0m\u001b[0;34m\u001b[0m\u001b[0;34m\u001b[0m\u001b[0m\n\u001b[1;32m    949\u001b[0m       \u001b[0;31m# Release the lock early so that multiple threads can perform the call\u001b[0m\u001b[0;34m\u001b[0m\u001b[0;34m\u001b[0m\u001b[0;34m\u001b[0m\u001b[0m\n",
            "\u001b[0;32m/usr/local/lib/python3.7/dist-packages/tensorflow/python/eager/function.py\u001b[0m in \u001b[0;36m__call__\u001b[0;34m(self, *args, **kwargs)\u001b[0m\n\u001b[1;32m   2955\u001b[0m        filtered_flat_args) = self._maybe_define_function(args, kwargs)\n\u001b[1;32m   2956\u001b[0m     return graph_function._call_flat(\n\u001b[0;32m-> 2957\u001b[0;31m         filtered_flat_args, captured_inputs=graph_function.captured_inputs)  # pylint: disable=protected-access\n\u001b[0m\u001b[1;32m   2958\u001b[0m \u001b[0;34m\u001b[0m\u001b[0m\n\u001b[1;32m   2959\u001b[0m   \u001b[0;34m@\u001b[0m\u001b[0mproperty\u001b[0m\u001b[0;34m\u001b[0m\u001b[0;34m\u001b[0m\u001b[0m\n",
            "\u001b[0;32m/usr/local/lib/python3.7/dist-packages/tensorflow/python/eager/function.py\u001b[0m in \u001b[0;36m_call_flat\u001b[0;34m(self, args, captured_inputs, cancellation_manager)\u001b[0m\n\u001b[1;32m   1852\u001b[0m       \u001b[0;31m# No tape is watching; skip to running the function.\u001b[0m\u001b[0;34m\u001b[0m\u001b[0;34m\u001b[0m\u001b[0;34m\u001b[0m\u001b[0m\n\u001b[1;32m   1853\u001b[0m       return self._build_call_outputs(self._inference_function.call(\n\u001b[0;32m-> 1854\u001b[0;31m           ctx, args, cancellation_manager=cancellation_manager))\n\u001b[0m\u001b[1;32m   1855\u001b[0m     forward_backward = self._select_forward_and_backward_functions(\n\u001b[1;32m   1856\u001b[0m         \u001b[0margs\u001b[0m\u001b[0;34m,\u001b[0m\u001b[0;34m\u001b[0m\u001b[0;34m\u001b[0m\u001b[0m\n",
            "\u001b[0;32m/usr/local/lib/python3.7/dist-packages/tensorflow/python/eager/function.py\u001b[0m in \u001b[0;36mcall\u001b[0;34m(self, ctx, args, cancellation_manager)\u001b[0m\n\u001b[1;32m    502\u001b[0m               \u001b[0minputs\u001b[0m\u001b[0;34m=\u001b[0m\u001b[0margs\u001b[0m\u001b[0;34m,\u001b[0m\u001b[0;34m\u001b[0m\u001b[0;34m\u001b[0m\u001b[0m\n\u001b[1;32m    503\u001b[0m               \u001b[0mattrs\u001b[0m\u001b[0;34m=\u001b[0m\u001b[0mattrs\u001b[0m\u001b[0;34m,\u001b[0m\u001b[0;34m\u001b[0m\u001b[0;34m\u001b[0m\u001b[0m\n\u001b[0;32m--> 504\u001b[0;31m               ctx=ctx)\n\u001b[0m\u001b[1;32m    505\u001b[0m         \u001b[0;32melse\u001b[0m\u001b[0;34m:\u001b[0m\u001b[0;34m\u001b[0m\u001b[0;34m\u001b[0m\u001b[0m\n\u001b[1;32m    506\u001b[0m           outputs = execute.execute_with_cancellation(\n",
            "\u001b[0;32m/usr/local/lib/python3.7/dist-packages/tensorflow/python/eager/execute.py\u001b[0m in \u001b[0;36mquick_execute\u001b[0;34m(op_name, num_outputs, inputs, attrs, ctx, name)\u001b[0m\n\u001b[1;32m     53\u001b[0m     \u001b[0mctx\u001b[0m\u001b[0;34m.\u001b[0m\u001b[0mensure_initialized\u001b[0m\u001b[0;34m(\u001b[0m\u001b[0;34m)\u001b[0m\u001b[0;34m\u001b[0m\u001b[0;34m\u001b[0m\u001b[0m\n\u001b[1;32m     54\u001b[0m     tensors = pywrap_tfe.TFE_Py_Execute(ctx._handle, device_name, op_name,\n\u001b[0;32m---> 55\u001b[0;31m                                         inputs, attrs, num_outputs)\n\u001b[0m\u001b[1;32m     56\u001b[0m   \u001b[0;32mexcept\u001b[0m \u001b[0mcore\u001b[0m\u001b[0;34m.\u001b[0m\u001b[0m_NotOkStatusException\u001b[0m \u001b[0;32mas\u001b[0m \u001b[0me\u001b[0m\u001b[0;34m:\u001b[0m\u001b[0;34m\u001b[0m\u001b[0;34m\u001b[0m\u001b[0m\n\u001b[1;32m     57\u001b[0m     \u001b[0;32mif\u001b[0m \u001b[0mname\u001b[0m \u001b[0;32mis\u001b[0m \u001b[0;32mnot\u001b[0m \u001b[0;32mNone\u001b[0m\u001b[0;34m:\u001b[0m\u001b[0;34m\u001b[0m\u001b[0;34m\u001b[0m\u001b[0m\n",
            "\u001b[0;31mKeyboardInterrupt\u001b[0m: "
          ]
        }
      ]
    },
    {
      "cell_type": "markdown",
      "source": [
        "## LSTM"
      ],
      "metadata": {
        "id": "4vg0pl9ZcrqC"
      }
    },
    {
      "cell_type": "code",
      "source": [
        "input = tf.zeros([8, 100,2000])\n",
        "layer = LSTM(4, activation = 'tanh', use_bias = True, return_sequences=True, return_state = True)\n",
        "\n",
        "output = layer(input)\n",
        "print(output[0].shape)\n",
        "print(output[1].shape)\n",
        "print(output[2].shape)\n",
        "print(len(output))"
      ],
      "metadata": {
        "colab": {
          "base_uri": "https://localhost:8080/"
        },
        "id": "yh3R7sVrcrMb",
        "outputId": "72d9e95d-7406-48dc-a349-e8ba8f091e62"
      },
      "execution_count": null,
      "outputs": [
        {
          "output_type": "stream",
          "name": "stdout",
          "text": [
            "(8, 100, 4)\n",
            "(8, 4)\n",
            "(8, 4)\n",
            "3\n"
          ]
        }
      ]
    },
    {
      "cell_type": "code",
      "source": [
        " input = tf.keras.layers.Input(shape = (SEQUENCE_LENGTH,))\n",
        " embedding_size = 256\n",
        "\n",
        " model = tf.keras.models.Sequential([\n",
        "                                     input,\n",
        "                                \n",
        "                                     tf.keras.layers.Embedding(VOCAB_SIZE, embedding_size),\n",
        "                                     LSTM(4, activation = 'tanh', use_bias = True, return_sequences=True, name = \"layer1\"),\n",
        "                                     Dense(1, activation = \"relu\", name=\"layer2\"),\n",
        "                                     Reshape((SEQUENCE_LENGTH,), name = \"layer3\"),\n",
        "                                     Dense(1, activation = \"sigmoid\", name = \"layer4\")\n",
        " ])\n",
        " model.summary()\n",
        "\n",
        "LR = 1e-4\n",
        "EPOCH = 50\n",
        "\n",
        "model.compile(\n",
        "    loss = tf.keras.losses.BinaryCrossentropy(from_logits = True),\n",
        "    optimizer = tf.keras.optimizers.Adam(lr = LR,),\n",
        "    metrics = [\"accuracy\"],\n",
        ")\n",
        "checkpoint_filepath  = \"basic_rnn.hdf5\"\n",
        "\n",
        "#checkpoint_filepath=\"imdb/basic_rnn.hdf5\"\n",
        "callback=tf.keras.callbacks.ModelCheckpoint(\n",
        "   filepath=checkpoint_filepath,### WHERE BEST WEIGHTS ARE STORED\n",
        "    save_weights_only=True,\n",
        "   monitor=\"loss\",\n",
        "   mode='min',\n",
        "    save_best_only=True)\n",
        "#Train model on dataset\n",
        "history=model.fit(train_dataset,validation_data=val_dataset,verbose=1,epochs=EPOCH,callbacks=[callback])#\n",
        "\n",
        "plt.plot(history.history[\"loss\"][:])\n",
        "plt.plot(history.history[\"val_loss\"][:])\n",
        "plt.title('model loss')\n",
        "plt.ylabel('loss')\n",
        "plt.xlabel('epoch')\n",
        "plt.legend(['train','val'], loc = 'upper left')\n",
        "plt.show()\n",
        "\n",
        "plt.plot(history.history[\"accuracy\"][:])\n",
        "plt.plot(history.history[\"val_accuracy\"][:])\n",
        "plt.title('model accuracy')\n",
        "plt.ylabel('accuracy')\n",
        "plt.xlabel('epoch')\n",
        "plt.legend(['train','val'], loc = 'upper left')\n",
        "plt.show()"
      ],
      "metadata": {
        "colab": {
          "base_uri": "https://localhost:8080/",
          "height": 872
        },
        "id": "hfp-SiQpCFwI",
        "outputId": "6bb366ad-2645-40a0-9e89-bb4dfcb9a9bd"
      },
      "execution_count": null,
      "outputs": [
        {
          "output_type": "stream",
          "name": "stdout",
          "text": [
            "Model: \"sequential_39\"\n",
            "_________________________________________________________________\n",
            " Layer (type)                Output Shape              Param #   \n",
            "=================================================================\n",
            " embedding_43 (Embedding)    (None, 100, 256)          512000    \n",
            "                                                                 \n",
            " layer1 (LSTM)               (None, 100, 4)            4176      \n",
            "                                                                 \n",
            " layer2 (Dense)              (None, 100, 1)            5         \n",
            "                                                                 \n",
            " layer3 (Reshape)            (None, 100)               0         \n",
            "                                                                 \n",
            " layer4 (Dense)              (None, 1)                 101       \n",
            "                                                                 \n",
            "=================================================================\n",
            "Total params: 516,282\n",
            "Trainable params: 516,282\n",
            "Non-trainable params: 0\n",
            "_________________________________________________________________\n",
            "Epoch 1/50\n"
          ]
        },
        {
          "output_type": "stream",
          "name": "stderr",
          "text": [
            "/usr/local/lib/python3.7/dist-packages/keras/optimizer_v2/adam.py:105: UserWarning: The `lr` argument is deprecated, use `learning_rate` instead.\n",
            "  super(Adam, self).__init__(name, **kwargs)\n",
            "/usr/local/lib/python3.7/dist-packages/tensorflow/python/util/dispatch.py:1082: UserWarning: \"`binary_crossentropy` received `from_logits=True`, but the `output` argument was produced by a sigmoid or softmax activation and thus does not represent logits. Was this intended?\"\n",
            "  return dispatch_target(*args, **kwargs)\n"
          ]
        },
        {
          "output_type": "stream",
          "name": "stdout",
          "text": [
            " 50/782 [>.............................] - ETA: 42s - loss: 0.6929 - accuracy: 0.5113"
          ]
        },
        {
          "output_type": "error",
          "ename": "KeyboardInterrupt",
          "evalue": "ignored",
          "traceback": [
            "\u001b[0;31m---------------------------------------------------------------------------\u001b[0m",
            "\u001b[0;31mKeyboardInterrupt\u001b[0m                         Traceback (most recent call last)",
            "\u001b[0;32m<ipython-input-94-ae22572f5f43>\u001b[0m in \u001b[0;36m<module>\u001b[0;34m()\u001b[0m\n\u001b[1;32m     31\u001b[0m    save_best_only=True)\n\u001b[1;32m     32\u001b[0m \u001b[0;31m#Train model on dataset\u001b[0m\u001b[0;34m\u001b[0m\u001b[0;34m\u001b[0m\u001b[0;34m\u001b[0m\u001b[0m\n\u001b[0;32m---> 33\u001b[0;31m \u001b[0mhistory\u001b[0m\u001b[0;34m=\u001b[0m\u001b[0mmodel\u001b[0m\u001b[0;34m.\u001b[0m\u001b[0mfit\u001b[0m\u001b[0;34m(\u001b[0m\u001b[0mtrain_dataset\u001b[0m\u001b[0;34m,\u001b[0m\u001b[0mvalidation_data\u001b[0m\u001b[0;34m=\u001b[0m\u001b[0mval_dataset\u001b[0m\u001b[0;34m,\u001b[0m\u001b[0mverbose\u001b[0m\u001b[0;34m=\u001b[0m\u001b[0;36m1\u001b[0m\u001b[0;34m,\u001b[0m\u001b[0mepochs\u001b[0m\u001b[0;34m=\u001b[0m\u001b[0mEPOCH\u001b[0m\u001b[0;34m,\u001b[0m\u001b[0mcallbacks\u001b[0m\u001b[0;34m=\u001b[0m\u001b[0;34m[\u001b[0m\u001b[0mcallback\u001b[0m\u001b[0;34m]\u001b[0m\u001b[0;34m)\u001b[0m\u001b[0;31m#\u001b[0m\u001b[0;34m\u001b[0m\u001b[0;34m\u001b[0m\u001b[0m\n\u001b[0m\u001b[1;32m     34\u001b[0m \u001b[0;34m\u001b[0m\u001b[0m\n\u001b[1;32m     35\u001b[0m \u001b[0mplt\u001b[0m\u001b[0;34m.\u001b[0m\u001b[0mplot\u001b[0m\u001b[0;34m(\u001b[0m\u001b[0mhistory\u001b[0m\u001b[0;34m.\u001b[0m\u001b[0mhistory\u001b[0m\u001b[0;34m[\u001b[0m\u001b[0;34m\"loss\"\u001b[0m\u001b[0;34m]\u001b[0m\u001b[0;34m[\u001b[0m\u001b[0;34m:\u001b[0m\u001b[0;34m]\u001b[0m\u001b[0;34m)\u001b[0m\u001b[0;34m\u001b[0m\u001b[0;34m\u001b[0m\u001b[0m\n",
            "\u001b[0;32m/usr/local/lib/python3.7/dist-packages/keras/utils/traceback_utils.py\u001b[0m in \u001b[0;36merror_handler\u001b[0;34m(*args, **kwargs)\u001b[0m\n\u001b[1;32m     62\u001b[0m     \u001b[0mfiltered_tb\u001b[0m \u001b[0;34m=\u001b[0m \u001b[0;32mNone\u001b[0m\u001b[0;34m\u001b[0m\u001b[0;34m\u001b[0m\u001b[0m\n\u001b[1;32m     63\u001b[0m     \u001b[0;32mtry\u001b[0m\u001b[0;34m:\u001b[0m\u001b[0;34m\u001b[0m\u001b[0;34m\u001b[0m\u001b[0m\n\u001b[0;32m---> 64\u001b[0;31m       \u001b[0;32mreturn\u001b[0m \u001b[0mfn\u001b[0m\u001b[0;34m(\u001b[0m\u001b[0;34m*\u001b[0m\u001b[0margs\u001b[0m\u001b[0;34m,\u001b[0m \u001b[0;34m**\u001b[0m\u001b[0mkwargs\u001b[0m\u001b[0;34m)\u001b[0m\u001b[0;34m\u001b[0m\u001b[0;34m\u001b[0m\u001b[0m\n\u001b[0m\u001b[1;32m     65\u001b[0m     \u001b[0;32mexcept\u001b[0m \u001b[0mException\u001b[0m \u001b[0;32mas\u001b[0m \u001b[0me\u001b[0m\u001b[0;34m:\u001b[0m  \u001b[0;31m# pylint: disable=broad-except\u001b[0m\u001b[0;34m\u001b[0m\u001b[0;34m\u001b[0m\u001b[0m\n\u001b[1;32m     66\u001b[0m       \u001b[0mfiltered_tb\u001b[0m \u001b[0;34m=\u001b[0m \u001b[0m_process_traceback_frames\u001b[0m\u001b[0;34m(\u001b[0m\u001b[0me\u001b[0m\u001b[0;34m.\u001b[0m\u001b[0m__traceback__\u001b[0m\u001b[0;34m)\u001b[0m\u001b[0;34m\u001b[0m\u001b[0;34m\u001b[0m\u001b[0m\n",
            "\u001b[0;32m/usr/local/lib/python3.7/dist-packages/keras/engine/training.py\u001b[0m in \u001b[0;36mfit\u001b[0;34m(self, x, y, batch_size, epochs, verbose, callbacks, validation_split, validation_data, shuffle, class_weight, sample_weight, initial_epoch, steps_per_epoch, validation_steps, validation_batch_size, validation_freq, max_queue_size, workers, use_multiprocessing)\u001b[0m\n\u001b[1;32m   1382\u001b[0m                 _r=1):\n\u001b[1;32m   1383\u001b[0m               \u001b[0mcallbacks\u001b[0m\u001b[0;34m.\u001b[0m\u001b[0mon_train_batch_begin\u001b[0m\u001b[0;34m(\u001b[0m\u001b[0mstep\u001b[0m\u001b[0;34m)\u001b[0m\u001b[0;34m\u001b[0m\u001b[0;34m\u001b[0m\u001b[0m\n\u001b[0;32m-> 1384\u001b[0;31m               \u001b[0mtmp_logs\u001b[0m \u001b[0;34m=\u001b[0m \u001b[0mself\u001b[0m\u001b[0;34m.\u001b[0m\u001b[0mtrain_function\u001b[0m\u001b[0;34m(\u001b[0m\u001b[0miterator\u001b[0m\u001b[0;34m)\u001b[0m\u001b[0;34m\u001b[0m\u001b[0;34m\u001b[0m\u001b[0m\n\u001b[0m\u001b[1;32m   1385\u001b[0m               \u001b[0;32mif\u001b[0m \u001b[0mdata_handler\u001b[0m\u001b[0;34m.\u001b[0m\u001b[0mshould_sync\u001b[0m\u001b[0;34m:\u001b[0m\u001b[0;34m\u001b[0m\u001b[0;34m\u001b[0m\u001b[0m\n\u001b[1;32m   1386\u001b[0m                 \u001b[0mcontext\u001b[0m\u001b[0;34m.\u001b[0m\u001b[0masync_wait\u001b[0m\u001b[0;34m(\u001b[0m\u001b[0;34m)\u001b[0m\u001b[0;34m\u001b[0m\u001b[0;34m\u001b[0m\u001b[0m\n",
            "\u001b[0;32m/usr/local/lib/python3.7/dist-packages/tensorflow/python/util/traceback_utils.py\u001b[0m in \u001b[0;36merror_handler\u001b[0;34m(*args, **kwargs)\u001b[0m\n\u001b[1;32m    148\u001b[0m     \u001b[0mfiltered_tb\u001b[0m \u001b[0;34m=\u001b[0m \u001b[0;32mNone\u001b[0m\u001b[0;34m\u001b[0m\u001b[0;34m\u001b[0m\u001b[0m\n\u001b[1;32m    149\u001b[0m     \u001b[0;32mtry\u001b[0m\u001b[0;34m:\u001b[0m\u001b[0;34m\u001b[0m\u001b[0;34m\u001b[0m\u001b[0m\n\u001b[0;32m--> 150\u001b[0;31m       \u001b[0;32mreturn\u001b[0m \u001b[0mfn\u001b[0m\u001b[0;34m(\u001b[0m\u001b[0;34m*\u001b[0m\u001b[0margs\u001b[0m\u001b[0;34m,\u001b[0m \u001b[0;34m**\u001b[0m\u001b[0mkwargs\u001b[0m\u001b[0;34m)\u001b[0m\u001b[0;34m\u001b[0m\u001b[0;34m\u001b[0m\u001b[0m\n\u001b[0m\u001b[1;32m    151\u001b[0m     \u001b[0;32mexcept\u001b[0m \u001b[0mException\u001b[0m \u001b[0;32mas\u001b[0m \u001b[0me\u001b[0m\u001b[0;34m:\u001b[0m\u001b[0;34m\u001b[0m\u001b[0;34m\u001b[0m\u001b[0m\n\u001b[1;32m    152\u001b[0m       \u001b[0mfiltered_tb\u001b[0m \u001b[0;34m=\u001b[0m \u001b[0m_process_traceback_frames\u001b[0m\u001b[0;34m(\u001b[0m\u001b[0me\u001b[0m\u001b[0;34m.\u001b[0m\u001b[0m__traceback__\u001b[0m\u001b[0;34m)\u001b[0m\u001b[0;34m\u001b[0m\u001b[0;34m\u001b[0m\u001b[0m\n",
            "\u001b[0;32m/usr/local/lib/python3.7/dist-packages/tensorflow/python/eager/def_function.py\u001b[0m in \u001b[0;36m__call__\u001b[0;34m(self, *args, **kwds)\u001b[0m\n\u001b[1;32m    913\u001b[0m \u001b[0;34m\u001b[0m\u001b[0m\n\u001b[1;32m    914\u001b[0m       \u001b[0;32mwith\u001b[0m \u001b[0mOptionalXlaContext\u001b[0m\u001b[0;34m(\u001b[0m\u001b[0mself\u001b[0m\u001b[0;34m.\u001b[0m\u001b[0m_jit_compile\u001b[0m\u001b[0;34m)\u001b[0m\u001b[0;34m:\u001b[0m\u001b[0;34m\u001b[0m\u001b[0;34m\u001b[0m\u001b[0m\n\u001b[0;32m--> 915\u001b[0;31m         \u001b[0mresult\u001b[0m \u001b[0;34m=\u001b[0m \u001b[0mself\u001b[0m\u001b[0;34m.\u001b[0m\u001b[0m_call\u001b[0m\u001b[0;34m(\u001b[0m\u001b[0;34m*\u001b[0m\u001b[0margs\u001b[0m\u001b[0;34m,\u001b[0m \u001b[0;34m**\u001b[0m\u001b[0mkwds\u001b[0m\u001b[0;34m)\u001b[0m\u001b[0;34m\u001b[0m\u001b[0;34m\u001b[0m\u001b[0m\n\u001b[0m\u001b[1;32m    916\u001b[0m \u001b[0;34m\u001b[0m\u001b[0m\n\u001b[1;32m    917\u001b[0m       \u001b[0mnew_tracing_count\u001b[0m \u001b[0;34m=\u001b[0m \u001b[0mself\u001b[0m\u001b[0;34m.\u001b[0m\u001b[0mexperimental_get_tracing_count\u001b[0m\u001b[0;34m(\u001b[0m\u001b[0;34m)\u001b[0m\u001b[0;34m\u001b[0m\u001b[0;34m\u001b[0m\u001b[0m\n",
            "\u001b[0;32m/usr/local/lib/python3.7/dist-packages/tensorflow/python/eager/def_function.py\u001b[0m in \u001b[0;36m_call\u001b[0;34m(self, *args, **kwds)\u001b[0m\n\u001b[1;32m    945\u001b[0m       \u001b[0;31m# In this case we have created variables on the first call, so we run the\u001b[0m\u001b[0;34m\u001b[0m\u001b[0;34m\u001b[0m\u001b[0;34m\u001b[0m\u001b[0m\n\u001b[1;32m    946\u001b[0m       \u001b[0;31m# defunned version which is guaranteed to never create variables.\u001b[0m\u001b[0;34m\u001b[0m\u001b[0;34m\u001b[0m\u001b[0;34m\u001b[0m\u001b[0m\n\u001b[0;32m--> 947\u001b[0;31m       \u001b[0;32mreturn\u001b[0m \u001b[0mself\u001b[0m\u001b[0;34m.\u001b[0m\u001b[0m_stateless_fn\u001b[0m\u001b[0;34m(\u001b[0m\u001b[0;34m*\u001b[0m\u001b[0margs\u001b[0m\u001b[0;34m,\u001b[0m \u001b[0;34m**\u001b[0m\u001b[0mkwds\u001b[0m\u001b[0;34m)\u001b[0m  \u001b[0;31m# pylint: disable=not-callable\u001b[0m\u001b[0;34m\u001b[0m\u001b[0;34m\u001b[0m\u001b[0m\n\u001b[0m\u001b[1;32m    948\u001b[0m     \u001b[0;32melif\u001b[0m \u001b[0mself\u001b[0m\u001b[0;34m.\u001b[0m\u001b[0m_stateful_fn\u001b[0m \u001b[0;32mis\u001b[0m \u001b[0;32mnot\u001b[0m \u001b[0;32mNone\u001b[0m\u001b[0;34m:\u001b[0m\u001b[0;34m\u001b[0m\u001b[0;34m\u001b[0m\u001b[0m\n\u001b[1;32m    949\u001b[0m       \u001b[0;31m# Release the lock early so that multiple threads can perform the call\u001b[0m\u001b[0;34m\u001b[0m\u001b[0;34m\u001b[0m\u001b[0;34m\u001b[0m\u001b[0m\n",
            "\u001b[0;32m/usr/local/lib/python3.7/dist-packages/tensorflow/python/eager/function.py\u001b[0m in \u001b[0;36m__call__\u001b[0;34m(self, *args, **kwargs)\u001b[0m\n\u001b[1;32m   2955\u001b[0m        filtered_flat_args) = self._maybe_define_function(args, kwargs)\n\u001b[1;32m   2956\u001b[0m     return graph_function._call_flat(\n\u001b[0;32m-> 2957\u001b[0;31m         filtered_flat_args, captured_inputs=graph_function.captured_inputs)  # pylint: disable=protected-access\n\u001b[0m\u001b[1;32m   2958\u001b[0m \u001b[0;34m\u001b[0m\u001b[0m\n\u001b[1;32m   2959\u001b[0m   \u001b[0;34m@\u001b[0m\u001b[0mproperty\u001b[0m\u001b[0;34m\u001b[0m\u001b[0;34m\u001b[0m\u001b[0m\n",
            "\u001b[0;32m/usr/local/lib/python3.7/dist-packages/tensorflow/python/eager/function.py\u001b[0m in \u001b[0;36m_call_flat\u001b[0;34m(self, args, captured_inputs, cancellation_manager)\u001b[0m\n\u001b[1;32m   1852\u001b[0m       \u001b[0;31m# No tape is watching; skip to running the function.\u001b[0m\u001b[0;34m\u001b[0m\u001b[0;34m\u001b[0m\u001b[0;34m\u001b[0m\u001b[0m\n\u001b[1;32m   1853\u001b[0m       return self._build_call_outputs(self._inference_function.call(\n\u001b[0;32m-> 1854\u001b[0;31m           ctx, args, cancellation_manager=cancellation_manager))\n\u001b[0m\u001b[1;32m   1855\u001b[0m     forward_backward = self._select_forward_and_backward_functions(\n\u001b[1;32m   1856\u001b[0m         \u001b[0margs\u001b[0m\u001b[0;34m,\u001b[0m\u001b[0;34m\u001b[0m\u001b[0;34m\u001b[0m\u001b[0m\n",
            "\u001b[0;32m/usr/local/lib/python3.7/dist-packages/tensorflow/python/eager/function.py\u001b[0m in \u001b[0;36mcall\u001b[0;34m(self, ctx, args, cancellation_manager)\u001b[0m\n\u001b[1;32m    502\u001b[0m               \u001b[0minputs\u001b[0m\u001b[0;34m=\u001b[0m\u001b[0margs\u001b[0m\u001b[0;34m,\u001b[0m\u001b[0;34m\u001b[0m\u001b[0;34m\u001b[0m\u001b[0m\n\u001b[1;32m    503\u001b[0m               \u001b[0mattrs\u001b[0m\u001b[0;34m=\u001b[0m\u001b[0mattrs\u001b[0m\u001b[0;34m,\u001b[0m\u001b[0;34m\u001b[0m\u001b[0;34m\u001b[0m\u001b[0m\n\u001b[0;32m--> 504\u001b[0;31m               ctx=ctx)\n\u001b[0m\u001b[1;32m    505\u001b[0m         \u001b[0;32melse\u001b[0m\u001b[0;34m:\u001b[0m\u001b[0;34m\u001b[0m\u001b[0;34m\u001b[0m\u001b[0m\n\u001b[1;32m    506\u001b[0m           outputs = execute.execute_with_cancellation(\n",
            "\u001b[0;32m/usr/local/lib/python3.7/dist-packages/tensorflow/python/eager/execute.py\u001b[0m in \u001b[0;36mquick_execute\u001b[0;34m(op_name, num_outputs, inputs, attrs, ctx, name)\u001b[0m\n\u001b[1;32m     53\u001b[0m     \u001b[0mctx\u001b[0m\u001b[0;34m.\u001b[0m\u001b[0mensure_initialized\u001b[0m\u001b[0;34m(\u001b[0m\u001b[0;34m)\u001b[0m\u001b[0;34m\u001b[0m\u001b[0;34m\u001b[0m\u001b[0m\n\u001b[1;32m     54\u001b[0m     tensors = pywrap_tfe.TFE_Py_Execute(ctx._handle, device_name, op_name,\n\u001b[0;32m---> 55\u001b[0;31m                                         inputs, attrs, num_outputs)\n\u001b[0m\u001b[1;32m     56\u001b[0m   \u001b[0;32mexcept\u001b[0m \u001b[0mcore\u001b[0m\u001b[0;34m.\u001b[0m\u001b[0m_NotOkStatusException\u001b[0m \u001b[0;32mas\u001b[0m \u001b[0me\u001b[0m\u001b[0;34m:\u001b[0m\u001b[0;34m\u001b[0m\u001b[0;34m\u001b[0m\u001b[0m\n\u001b[1;32m     57\u001b[0m     \u001b[0;32mif\u001b[0m \u001b[0mname\u001b[0m \u001b[0;32mis\u001b[0m \u001b[0;32mnot\u001b[0m \u001b[0;32mNone\u001b[0m\u001b[0;34m:\u001b[0m\u001b[0;34m\u001b[0m\u001b[0;34m\u001b[0m\u001b[0m\n",
            "\u001b[0;31mKeyboardInterrupt\u001b[0m: "
          ]
        }
      ]
    },
    {
      "cell_type": "markdown",
      "source": [
        "# GRU"
      ],
      "metadata": {
        "id": "mmMeJNYmvfKX"
      }
    },
    {
      "cell_type": "code",
      "source": [
        "inputs=tf.keras.layers.Input(shape=(SEQUENCE_LENGTH,VOCAB_SIZE),)\n",
        "EMBEDDING_DIM=100\n",
        "embedding=tf.keras.layers.Embedding(VOCAB_SIZE,EMBEDDING_DIM)\n",
        "model=  tf.keras.models.Sequential([\n",
        "    inputs,\n",
        "    \n",
        "    tf.keras.layers.GRU(20,activation='tanh',use_bias=True,return_sequences=True),\n",
        "    tf.keras.layers.Dense(1,activation='relu'),\n",
        "    tf.keras.layers.Reshape((SEQUENCE_LENGTH,)),\n",
        "    tf.keras.layers.Dense(1,activation='sigmoid'),\n",
        "])\n",
        "model.summary()\n",
        "\n",
        "LR=5e-4\n",
        "EPOCH=15\n",
        "model.compile(\n",
        "    loss=tf.keras.losses.BinaryCrossentropy(from_logits=True),\n",
        "    optimizer=tf.keras.optimizers.Adam(lr=LR,),\n",
        "    metrics=['accuracy']\n",
        ")\n",
        "checkpoint_filepath  = \"basic_rnn.hdf5\"\n",
        "\n",
        "callback=tf.keras.callbacks.ModelCheckpoint(\n",
        "    filepath=checkpoint_filepath,\n",
        "    save_weights_only=True,\n",
        "    monitor=\"val_loss\",\n",
        "    mode='min',\n",
        "    save_best_only=True)\n",
        "#Train model on dataset\n",
        "history = model.fit(train_dataset,validation_data=val_dataset,verbose=1,epochs=EPOCH,callbacks=[callback])\n",
        "plt.plot(history.history[\"loss\"][:])\n",
        "plt.plot(history.history[\"val_loss\"][:])\n",
        "plt.title('model loss')\n",
        "plt.ylabel('loss')\n",
        "plt.xlabel('epoch')\n",
        "plt.legend(['train','val'], loc = 'upper left')\n",
        "plt.show()\n",
        "\n",
        "plt.plot(history.history[\"accuracy\"][:])\n",
        "plt.plot(history.history[\"val_accuracy\"][:])\n",
        "plt.title('model accuracy')\n",
        "plt.ylabel('accuracy')\n",
        "plt.xlabel('epoch')\n",
        "plt.legend(['train','val'], loc = 'upper left')\n",
        "plt.show()\n"
      ],
      "metadata": {
        "colab": {
          "base_uri": "https://localhost:8080/",
          "height": 1000
        },
        "id": "IeSJl2auepIv",
        "outputId": "e7bb4147-5402-40e5-c271-4806e3e2c0f4"
      },
      "execution_count": null,
      "outputs": [
        {
          "output_type": "stream",
          "name": "stdout",
          "text": [
            "Model: \"sequential_19\"\n",
            "_________________________________________________________________\n",
            " Layer (type)                Output Shape              Param #   \n",
            "=================================================================\n",
            " gru_2 (GRU)                 (None, 100, 20)           121320    \n",
            "                                                                 \n",
            " dense_6 (Dense)             (None, 100, 1)            21        \n",
            "                                                                 \n",
            " reshape_3 (Reshape)         (None, 100)               0         \n",
            "                                                                 \n",
            " dense_7 (Dense)             (None, 1)                 101       \n",
            "                                                                 \n",
            "=================================================================\n",
            "Total params: 121,442\n",
            "Trainable params: 121,442\n",
            "Non-trainable params: 0\n",
            "_________________________________________________________________\n",
            "Epoch 1/15\n"
          ]
        },
        {
          "output_type": "stream",
          "name": "stderr",
          "text": [
            "/usr/local/lib/python3.7/dist-packages/keras/optimizer_v2/adam.py:105: UserWarning: The `lr` argument is deprecated, use `learning_rate` instead.\n",
            "  super(Adam, self).__init__(name, **kwargs)\n",
            "/usr/local/lib/python3.7/dist-packages/tensorflow/python/util/dispatch.py:1082: UserWarning: \"`binary_crossentropy` received `from_logits=True`, but the `output` argument was produced by a sigmoid or softmax activation and thus does not represent logits. Was this intended?\"\n",
            "  return dispatch_target(*args, **kwargs)\n"
          ]
        },
        {
          "output_type": "stream",
          "name": "stdout",
          "text": [
            "782/782 [==============================] - 219s 197ms/step - loss: 0.6281 - accuracy: 0.6278 - val_loss: 0.5516 - val_accuracy: 0.7573\n",
            "Epoch 2/15\n",
            "782/782 [==============================] - 155s 198ms/step - loss: 0.5168 - accuracy: 0.7838 - val_loss: 0.5098 - val_accuracy: 0.7807\n",
            "Epoch 3/15\n",
            "782/782 [==============================] - 154s 197ms/step - loss: 0.4723 - accuracy: 0.8028 - val_loss: 0.4887 - val_accuracy: 0.7835\n",
            "Epoch 4/15\n",
            "782/782 [==============================] - 154s 197ms/step - loss: 0.4437 - accuracy: 0.8120 - val_loss: 0.4914 - val_accuracy: 0.7852\n",
            "Epoch 5/15\n",
            "782/782 [==============================] - 153s 196ms/step - loss: 0.4249 - accuracy: 0.8224 - val_loss: 0.4773 - val_accuracy: 0.7848\n",
            "Epoch 6/15\n",
            "782/782 [==============================] - 154s 197ms/step - loss: 0.4116 - accuracy: 0.8272 - val_loss: 0.4740 - val_accuracy: 0.7846\n",
            "Epoch 7/15\n",
            "782/782 [==============================] - 153s 196ms/step - loss: 0.3994 - accuracy: 0.8317 - val_loss: 0.4792 - val_accuracy: 0.7890\n",
            "Epoch 8/15\n",
            "782/782 [==============================] - 153s 195ms/step - loss: 0.3909 - accuracy: 0.8364 - val_loss: 0.5048 - val_accuracy: 0.7872\n",
            "Epoch 9/15\n",
            "782/782 [==============================] - 153s 195ms/step - loss: 0.3809 - accuracy: 0.8417 - val_loss: 0.4886 - val_accuracy: 0.7883\n",
            "Epoch 10/15\n",
            "782/782 [==============================] - 153s 196ms/step - loss: 0.3711 - accuracy: 0.8472 - val_loss: 0.4975 - val_accuracy: 0.7896\n",
            "Epoch 11/15\n",
            "782/782 [==============================] - 154s 197ms/step - loss: 0.3653 - accuracy: 0.8505 - val_loss: 0.4940 - val_accuracy: 0.7739\n",
            "Epoch 12/15\n",
            "782/782 [==============================] - 153s 196ms/step - loss: 0.3561 - accuracy: 0.8553 - val_loss: 0.5169 - val_accuracy: 0.7866\n",
            "Epoch 13/15\n",
            "782/782 [==============================] - 153s 196ms/step - loss: 0.3505 - accuracy: 0.8585 - val_loss: 0.5013 - val_accuracy: 0.7880\n",
            "Epoch 14/15\n",
            "782/782 [==============================] - 153s 196ms/step - loss: 0.3401 - accuracy: 0.8653 - val_loss: 0.4986 - val_accuracy: 0.7882\n",
            "Epoch 15/15\n",
            "782/782 [==============================] - 153s 196ms/step - loss: 0.3344 - accuracy: 0.8674 - val_loss: 0.5027 - val_accuracy: 0.7877\n"
          ]
        },
        {
          "output_type": "display_data",
          "data": {
            "text/plain": [
              "<Figure size 432x288 with 1 Axes>"
            ],
            "image/png": "[encoded data removed]"
          },
          "metadata": {
            "needs_background": "light"
          }
        },
        {
          "output_type": "display_data",
          "data": {
            "text/plain": [
              "<Figure size 432x288 with 1 Axes>"
            ],
            "image/png": "[encoded data removed]"
          },
          "metadata": {
            "needs_background": "light"
          }
        }
      ]
    },
    {
      "cell_type": "markdown",
      "source": [
        "# 1D Convolution"
      ],
      "metadata": {
        "id": "y_S_OKgox4AU"
      }
    },
    {
      "cell_type": "code",
      "source": [
        "inputs= tf.keras.layers.Input(shape=(SEQUENCE_LENGTH,),)#SEQUENCE_LENGTH,),)\n",
        "EMBEDDING_DIM=200\n",
        "embedding =tf.keras.layers.Embedding(VOCAB_SIZE, EMBEDDING_DIM,)\n",
        "model=tf.keras.models.Sequential([\n",
        "    inputs,\n",
        "    embedding,\n",
        "   tf.keras.layers.Conv1D(EMBEDDING_DIM,kernel_size=2,activation='relu',),\n",
        "   tf.keras.layers.MaxPooling1D(2),\n",
        "\n",
        "   tf.keras.layers.GlobalMaxPooling1D(),\n",
        "   tf.keras.layers.Dense(1,activation='sigmoid'),\n",
        "   ])\n",
        "model.summary()\n",
        "\n",
        "LR=5e-4\n",
        "EPOCH=15\n",
        "model.compile(\n",
        "    loss=tf.keras.losses.BinaryCrossentropy(from_logits=True),\n",
        "    optimizer=tf.keras.optimizers.Adam(lr=LR,),\n",
        "    metrics=['accuracy']\n",
        ")\n",
        "checkpoint_filepath  = \"basic_rnn.hdf5\"\n",
        "\n",
        "callback=tf.keras.callbacks.ModelCheckpoint(\n",
        "    filepath=checkpoint_filepath,\n",
        "    save_weights_only=True,\n",
        "    monitor=\"val_loss\",\n",
        "    mode='min',\n",
        "    save_best_only=True)\n",
        "#Train model on dataset\n",
        "history = model.fit(train_dataset,validation_data=val_dataset,verbose=1,epochs=EPOCH,callbacks=[callback])\n",
        "plt.plot(history.history[\"loss\"][:])\n",
        "plt.plot(history.history[\"val_loss\"][:])\n",
        "plt.title('model loss')\n",
        "plt.ylabel('loss')\n",
        "plt.xlabel('epoch')\n",
        "plt.legend(['train','val'], loc = 'upper left')\n",
        "plt.show()\n",
        "\n",
        "plt.plot(history.history[\"accuracy\"][:])\n",
        "plt.plot(history.history[\"val_accuracy\"][:])\n",
        "plt.title('model accuracy')\n",
        "plt.ylabel('accuracy')\n",
        "plt.xlabel('epoch')\n",
        "plt.legend(['train','val'], loc = 'upper left')\n",
        "plt.show()\n"
      ],
      "metadata": {
        "colab": {
          "base_uri": "https://localhost:8080/",
          "height": 906
        },
        "id": "wa53vYg6n_YG",
        "outputId": "a1e86d6d-7c91-47a8-b056-13ffaedcc667"
      },
      "execution_count": null,
      "outputs": [
        {
          "output_type": "stream",
          "name": "stdout",
          "text": [
            "Model: \"sequential_43\"\n",
            "_________________________________________________________________\n",
            " Layer (type)                Output Shape              Param #   \n",
            "=================================================================\n",
            " embedding_47 (Embedding)    (None, 100, 200)          400000    \n",
            "                                                                 \n",
            " conv1d_32 (Conv1D)          (None, 99, 200)           80200     \n",
            "                                                                 \n",
            " max_pooling1d_21 (MaxPoolin  (None, 49, 200)          0         \n",
            " g1D)                                                            \n",
            "                                                                 \n",
            " global_max_pooling1d_30 (Gl  (None, 200)              0         \n",
            " obalMaxPooling1D)                                               \n",
            "                                                                 \n",
            " dense_29 (Dense)            (None, 1)                 201       \n",
            "                                                                 \n",
            "=================================================================\n",
            "Total params: 480,401\n",
            "Trainable params: 480,401\n",
            "Non-trainable params: 0\n",
            "_________________________________________________________________\n",
            "Epoch 1/15\n"
          ]
        },
        {
          "output_type": "stream",
          "name": "stderr",
          "text": [
            "/usr/local/lib/python3.7/dist-packages/keras/optimizer_v2/adam.py:105: UserWarning: The `lr` argument is deprecated, use `learning_rate` instead.\n",
            "  super(Adam, self).__init__(name, **kwargs)\n",
            "/usr/local/lib/python3.7/dist-packages/tensorflow/python/util/dispatch.py:1082: UserWarning: \"`binary_crossentropy` received `from_logits=True`, but the `output` argument was produced by a sigmoid or softmax activation and thus does not represent logits. Was this intended?\"\n",
            "  return dispatch_target(*args, **kwargs)\n"
          ]
        },
        {
          "output_type": "stream",
          "name": "stdout",
          "text": [
            " 42/782 [>.............................] - ETA: 1:05 - loss: 0.6897 - accuracy: 0.5201"
          ]
        },
        {
          "output_type": "error",
          "ename": "KeyboardInterrupt",
          "evalue": "ignored",
          "traceback": [
            "\u001b[0;31m---------------------------------------------------------------------------\u001b[0m",
            "\u001b[0;31mKeyboardInterrupt\u001b[0m                         Traceback (most recent call last)",
            "\u001b[0;32m<ipython-input-99-917e038236d6>\u001b[0m in \u001b[0;36m<module>\u001b[0;34m()\u001b[0m\n\u001b[1;32m     29\u001b[0m     save_best_only=True)\n\u001b[1;32m     30\u001b[0m \u001b[0;31m#Train model on dataset\u001b[0m\u001b[0;34m\u001b[0m\u001b[0;34m\u001b[0m\u001b[0;34m\u001b[0m\u001b[0m\n\u001b[0;32m---> 31\u001b[0;31m \u001b[0mhistory\u001b[0m \u001b[0;34m=\u001b[0m \u001b[0mmodel\u001b[0m\u001b[0;34m.\u001b[0m\u001b[0mfit\u001b[0m\u001b[0;34m(\u001b[0m\u001b[0mtrain_dataset\u001b[0m\u001b[0;34m,\u001b[0m\u001b[0mvalidation_data\u001b[0m\u001b[0;34m=\u001b[0m\u001b[0mval_dataset\u001b[0m\u001b[0;34m,\u001b[0m\u001b[0mverbose\u001b[0m\u001b[0;34m=\u001b[0m\u001b[0;36m1\u001b[0m\u001b[0;34m,\u001b[0m\u001b[0mepochs\u001b[0m\u001b[0;34m=\u001b[0m\u001b[0mEPOCH\u001b[0m\u001b[0;34m,\u001b[0m\u001b[0mcallbacks\u001b[0m\u001b[0;34m=\u001b[0m\u001b[0;34m[\u001b[0m\u001b[0mcallback\u001b[0m\u001b[0;34m]\u001b[0m\u001b[0;34m)\u001b[0m\u001b[0;34m\u001b[0m\u001b[0;34m\u001b[0m\u001b[0m\n\u001b[0m\u001b[1;32m     32\u001b[0m \u001b[0mplt\u001b[0m\u001b[0;34m.\u001b[0m\u001b[0mplot\u001b[0m\u001b[0;34m(\u001b[0m\u001b[0mhistory\u001b[0m\u001b[0;34m.\u001b[0m\u001b[0mhistory\u001b[0m\u001b[0;34m[\u001b[0m\u001b[0;34m\"loss\"\u001b[0m\u001b[0;34m]\u001b[0m\u001b[0;34m[\u001b[0m\u001b[0;34m:\u001b[0m\u001b[0;34m]\u001b[0m\u001b[0;34m)\u001b[0m\u001b[0;34m\u001b[0m\u001b[0;34m\u001b[0m\u001b[0m\n\u001b[1;32m     33\u001b[0m \u001b[0mplt\u001b[0m\u001b[0;34m.\u001b[0m\u001b[0mplot\u001b[0m\u001b[0;34m(\u001b[0m\u001b[0mhistory\u001b[0m\u001b[0;34m.\u001b[0m\u001b[0mhistory\u001b[0m\u001b[0;34m[\u001b[0m\u001b[0;34m\"val_loss\"\u001b[0m\u001b[0;34m]\u001b[0m\u001b[0;34m[\u001b[0m\u001b[0;34m:\u001b[0m\u001b[0;34m]\u001b[0m\u001b[0;34m)\u001b[0m\u001b[0;34m\u001b[0m\u001b[0;34m\u001b[0m\u001b[0m\n",
            "\u001b[0;32m/usr/local/lib/python3.7/dist-packages/keras/utils/traceback_utils.py\u001b[0m in \u001b[0;36merror_handler\u001b[0;34m(*args, **kwargs)\u001b[0m\n\u001b[1;32m     62\u001b[0m     \u001b[0mfiltered_tb\u001b[0m \u001b[0;34m=\u001b[0m \u001b[0;32mNone\u001b[0m\u001b[0;34m\u001b[0m\u001b[0;34m\u001b[0m\u001b[0m\n\u001b[1;32m     63\u001b[0m     \u001b[0;32mtry\u001b[0m\u001b[0;34m:\u001b[0m\u001b[0;34m\u001b[0m\u001b[0;34m\u001b[0m\u001b[0m\n\u001b[0;32m---> 64\u001b[0;31m       \u001b[0;32mreturn\u001b[0m \u001b[0mfn\u001b[0m\u001b[0;34m(\u001b[0m\u001b[0;34m*\u001b[0m\u001b[0margs\u001b[0m\u001b[0;34m,\u001b[0m \u001b[0;34m**\u001b[0m\u001b[0mkwargs\u001b[0m\u001b[0;34m)\u001b[0m\u001b[0;34m\u001b[0m\u001b[0;34m\u001b[0m\u001b[0m\n\u001b[0m\u001b[1;32m     65\u001b[0m     \u001b[0;32mexcept\u001b[0m \u001b[0mException\u001b[0m \u001b[0;32mas\u001b[0m \u001b[0me\u001b[0m\u001b[0;34m:\u001b[0m  \u001b[0;31m# pylint: disable=broad-except\u001b[0m\u001b[0;34m\u001b[0m\u001b[0;34m\u001b[0m\u001b[0m\n\u001b[1;32m     66\u001b[0m       \u001b[0mfiltered_tb\u001b[0m \u001b[0;34m=\u001b[0m \u001b[0m_process_traceback_frames\u001b[0m\u001b[0;34m(\u001b[0m\u001b[0me\u001b[0m\u001b[0;34m.\u001b[0m\u001b[0m__traceback__\u001b[0m\u001b[0;34m)\u001b[0m\u001b[0;34m\u001b[0m\u001b[0;34m\u001b[0m\u001b[0m\n",
            "\u001b[0;32m/usr/local/lib/python3.7/dist-packages/keras/engine/training.py\u001b[0m in \u001b[0;36mfit\u001b[0;34m(self, x, y, batch_size, epochs, verbose, callbacks, validation_split, validation_data, shuffle, class_weight, sample_weight, initial_epoch, steps_per_epoch, validation_steps, validation_batch_size, validation_freq, max_queue_size, workers, use_multiprocessing)\u001b[0m\n\u001b[1;32m   1382\u001b[0m                 _r=1):\n\u001b[1;32m   1383\u001b[0m               \u001b[0mcallbacks\u001b[0m\u001b[0;34m.\u001b[0m\u001b[0mon_train_batch_begin\u001b[0m\u001b[0;34m(\u001b[0m\u001b[0mstep\u001b[0m\u001b[0;34m)\u001b[0m\u001b[0;34m\u001b[0m\u001b[0;34m\u001b[0m\u001b[0m\n\u001b[0;32m-> 1384\u001b[0;31m               \u001b[0mtmp_logs\u001b[0m \u001b[0;34m=\u001b[0m \u001b[0mself\u001b[0m\u001b[0;34m.\u001b[0m\u001b[0mtrain_function\u001b[0m\u001b[0;34m(\u001b[0m\u001b[0miterator\u001b[0m\u001b[0;34m)\u001b[0m\u001b[0;34m\u001b[0m\u001b[0;34m\u001b[0m\u001b[0m\n\u001b[0m\u001b[1;32m   1385\u001b[0m               \u001b[0;32mif\u001b[0m \u001b[0mdata_handler\u001b[0m\u001b[0;34m.\u001b[0m\u001b[0mshould_sync\u001b[0m\u001b[0;34m:\u001b[0m\u001b[0;34m\u001b[0m\u001b[0;34m\u001b[0m\u001b[0m\n\u001b[1;32m   1386\u001b[0m                 \u001b[0mcontext\u001b[0m\u001b[0;34m.\u001b[0m\u001b[0masync_wait\u001b[0m\u001b[0;34m(\u001b[0m\u001b[0;34m)\u001b[0m\u001b[0;34m\u001b[0m\u001b[0;34m\u001b[0m\u001b[0m\n",
            "\u001b[0;32m/usr/local/lib/python3.7/dist-packages/tensorflow/python/util/traceback_utils.py\u001b[0m in \u001b[0;36merror_handler\u001b[0;34m(*args, **kwargs)\u001b[0m\n\u001b[1;32m    148\u001b[0m     \u001b[0mfiltered_tb\u001b[0m \u001b[0;34m=\u001b[0m \u001b[0;32mNone\u001b[0m\u001b[0;34m\u001b[0m\u001b[0;34m\u001b[0m\u001b[0m\n\u001b[1;32m    149\u001b[0m     \u001b[0;32mtry\u001b[0m\u001b[0;34m:\u001b[0m\u001b[0;34m\u001b[0m\u001b[0;34m\u001b[0m\u001b[0m\n\u001b[0;32m--> 150\u001b[0;31m       \u001b[0;32mreturn\u001b[0m \u001b[0mfn\u001b[0m\u001b[0;34m(\u001b[0m\u001b[0;34m*\u001b[0m\u001b[0margs\u001b[0m\u001b[0;34m,\u001b[0m \u001b[0;34m**\u001b[0m\u001b[0mkwargs\u001b[0m\u001b[0;34m)\u001b[0m\u001b[0;34m\u001b[0m\u001b[0;34m\u001b[0m\u001b[0m\n\u001b[0m\u001b[1;32m    151\u001b[0m     \u001b[0;32mexcept\u001b[0m \u001b[0mException\u001b[0m \u001b[0;32mas\u001b[0m \u001b[0me\u001b[0m\u001b[0;34m:\u001b[0m\u001b[0;34m\u001b[0m\u001b[0;34m\u001b[0m\u001b[0m\n\u001b[1;32m    152\u001b[0m       \u001b[0mfiltered_tb\u001b[0m \u001b[0;34m=\u001b[0m \u001b[0m_process_traceback_frames\u001b[0m\u001b[0;34m(\u001b[0m\u001b[0me\u001b[0m\u001b[0;34m.\u001b[0m\u001b[0m__traceback__\u001b[0m\u001b[0;34m)\u001b[0m\u001b[0;34m\u001b[0m\u001b[0;34m\u001b[0m\u001b[0m\n",
            "\u001b[0;32m/usr/local/lib/python3.7/dist-packages/tensorflow/python/eager/def_function.py\u001b[0m in \u001b[0;36m__call__\u001b[0;34m(self, *args, **kwds)\u001b[0m\n\u001b[1;32m    913\u001b[0m \u001b[0;34m\u001b[0m\u001b[0m\n\u001b[1;32m    914\u001b[0m       \u001b[0;32mwith\u001b[0m \u001b[0mOptionalXlaContext\u001b[0m\u001b[0;34m(\u001b[0m\u001b[0mself\u001b[0m\u001b[0;34m.\u001b[0m\u001b[0m_jit_compile\u001b[0m\u001b[0;34m)\u001b[0m\u001b[0;34m:\u001b[0m\u001b[0;34m\u001b[0m\u001b[0;34m\u001b[0m\u001b[0m\n\u001b[0;32m--> 915\u001b[0;31m         \u001b[0mresult\u001b[0m \u001b[0;34m=\u001b[0m \u001b[0mself\u001b[0m\u001b[0;34m.\u001b[0m\u001b[0m_call\u001b[0m\u001b[0;34m(\u001b[0m\u001b[0;34m*\u001b[0m\u001b[0margs\u001b[0m\u001b[0;34m,\u001b[0m \u001b[0;34m**\u001b[0m\u001b[0mkwds\u001b[0m\u001b[0;34m)\u001b[0m\u001b[0;34m\u001b[0m\u001b[0;34m\u001b[0m\u001b[0m\n\u001b[0m\u001b[1;32m    916\u001b[0m \u001b[0;34m\u001b[0m\u001b[0m\n\u001b[1;32m    917\u001b[0m       \u001b[0mnew_tracing_count\u001b[0m \u001b[0;34m=\u001b[0m \u001b[0mself\u001b[0m\u001b[0;34m.\u001b[0m\u001b[0mexperimental_get_tracing_count\u001b[0m\u001b[0;34m(\u001b[0m\u001b[0;34m)\u001b[0m\u001b[0;34m\u001b[0m\u001b[0;34m\u001b[0m\u001b[0m\n",
            "\u001b[0;32m/usr/local/lib/python3.7/dist-packages/tensorflow/python/eager/def_function.py\u001b[0m in \u001b[0;36m_call\u001b[0;34m(self, *args, **kwds)\u001b[0m\n\u001b[1;32m    945\u001b[0m       \u001b[0;31m# In this case we have created variables on the first call, so we run the\u001b[0m\u001b[0;34m\u001b[0m\u001b[0;34m\u001b[0m\u001b[0;34m\u001b[0m\u001b[0m\n\u001b[1;32m    946\u001b[0m       \u001b[0;31m# defunned version which is guaranteed to never create variables.\u001b[0m\u001b[0;34m\u001b[0m\u001b[0;34m\u001b[0m\u001b[0;34m\u001b[0m\u001b[0m\n\u001b[0;32m--> 947\u001b[0;31m       \u001b[0;32mreturn\u001b[0m \u001b[0mself\u001b[0m\u001b[0;34m.\u001b[0m\u001b[0m_stateless_fn\u001b[0m\u001b[0;34m(\u001b[0m\u001b[0;34m*\u001b[0m\u001b[0margs\u001b[0m\u001b[0;34m,\u001b[0m \u001b[0;34m**\u001b[0m\u001b[0mkwds\u001b[0m\u001b[0;34m)\u001b[0m  \u001b[0;31m# pylint: disable=not-callable\u001b[0m\u001b[0;34m\u001b[0m\u001b[0;34m\u001b[0m\u001b[0m\n\u001b[0m\u001b[1;32m    948\u001b[0m     \u001b[0;32melif\u001b[0m \u001b[0mself\u001b[0m\u001b[0;34m.\u001b[0m\u001b[0m_stateful_fn\u001b[0m \u001b[0;32mis\u001b[0m \u001b[0;32mnot\u001b[0m \u001b[0;32mNone\u001b[0m\u001b[0;34m:\u001b[0m\u001b[0;34m\u001b[0m\u001b[0;34m\u001b[0m\u001b[0m\n\u001b[1;32m    949\u001b[0m       \u001b[0;31m# Release the lock early so that multiple threads can perform the call\u001b[0m\u001b[0;34m\u001b[0m\u001b[0;34m\u001b[0m\u001b[0;34m\u001b[0m\u001b[0m\n",
            "\u001b[0;32m/usr/local/lib/python3.7/dist-packages/tensorflow/python/eager/function.py\u001b[0m in \u001b[0;36m__call__\u001b[0;34m(self, *args, **kwargs)\u001b[0m\n\u001b[1;32m   2955\u001b[0m        filtered_flat_args) = self._maybe_define_function(args, kwargs)\n\u001b[1;32m   2956\u001b[0m     return graph_function._call_flat(\n\u001b[0;32m-> 2957\u001b[0;31m         filtered_flat_args, captured_inputs=graph_function.captured_inputs)  # pylint: disable=protected-access\n\u001b[0m\u001b[1;32m   2958\u001b[0m \u001b[0;34m\u001b[0m\u001b[0m\n\u001b[1;32m   2959\u001b[0m   \u001b[0;34m@\u001b[0m\u001b[0mproperty\u001b[0m\u001b[0;34m\u001b[0m\u001b[0;34m\u001b[0m\u001b[0m\n",
            "\u001b[0;32m/usr/local/lib/python3.7/dist-packages/tensorflow/python/eager/function.py\u001b[0m in \u001b[0;36m_call_flat\u001b[0;34m(self, args, captured_inputs, cancellation_manager)\u001b[0m\n\u001b[1;32m   1852\u001b[0m       \u001b[0;31m# No tape is watching; skip to running the function.\u001b[0m\u001b[0;34m\u001b[0m\u001b[0;34m\u001b[0m\u001b[0;34m\u001b[0m\u001b[0m\n\u001b[1;32m   1853\u001b[0m       return self._build_call_outputs(self._inference_function.call(\n\u001b[0;32m-> 1854\u001b[0;31m           ctx, args, cancellation_manager=cancellation_manager))\n\u001b[0m\u001b[1;32m   1855\u001b[0m     forward_backward = self._select_forward_and_backward_functions(\n\u001b[1;32m   1856\u001b[0m         \u001b[0margs\u001b[0m\u001b[0;34m,\u001b[0m\u001b[0;34m\u001b[0m\u001b[0;34m\u001b[0m\u001b[0m\n",
            "\u001b[0;32m/usr/local/lib/python3.7/dist-packages/tensorflow/python/eager/function.py\u001b[0m in \u001b[0;36mcall\u001b[0;34m(self, ctx, args, cancellation_manager)\u001b[0m\n\u001b[1;32m    502\u001b[0m               \u001b[0minputs\u001b[0m\u001b[0;34m=\u001b[0m\u001b[0margs\u001b[0m\u001b[0;34m,\u001b[0m\u001b[0;34m\u001b[0m\u001b[0;34m\u001b[0m\u001b[0m\n\u001b[1;32m    503\u001b[0m               \u001b[0mattrs\u001b[0m\u001b[0;34m=\u001b[0m\u001b[0mattrs\u001b[0m\u001b[0;34m,\u001b[0m\u001b[0;34m\u001b[0m\u001b[0;34m\u001b[0m\u001b[0m\n\u001b[0;32m--> 504\u001b[0;31m               ctx=ctx)\n\u001b[0m\u001b[1;32m    505\u001b[0m         \u001b[0;32melse\u001b[0m\u001b[0;34m:\u001b[0m\u001b[0;34m\u001b[0m\u001b[0;34m\u001b[0m\u001b[0m\n\u001b[1;32m    506\u001b[0m           outputs = execute.execute_with_cancellation(\n",
            "\u001b[0;32m/usr/local/lib/python3.7/dist-packages/tensorflow/python/eager/execute.py\u001b[0m in \u001b[0;36mquick_execute\u001b[0;34m(op_name, num_outputs, inputs, attrs, ctx, name)\u001b[0m\n\u001b[1;32m     53\u001b[0m     \u001b[0mctx\u001b[0m\u001b[0;34m.\u001b[0m\u001b[0mensure_initialized\u001b[0m\u001b[0;34m(\u001b[0m\u001b[0;34m)\u001b[0m\u001b[0;34m\u001b[0m\u001b[0;34m\u001b[0m\u001b[0m\n\u001b[1;32m     54\u001b[0m     tensors = pywrap_tfe.TFE_Py_Execute(ctx._handle, device_name, op_name,\n\u001b[0;32m---> 55\u001b[0;31m                                         inputs, attrs, num_outputs)\n\u001b[0m\u001b[1;32m     56\u001b[0m   \u001b[0;32mexcept\u001b[0m \u001b[0mcore\u001b[0m\u001b[0;34m.\u001b[0m\u001b[0m_NotOkStatusException\u001b[0m \u001b[0;32mas\u001b[0m \u001b[0me\u001b[0m\u001b[0;34m:\u001b[0m\u001b[0;34m\u001b[0m\u001b[0;34m\u001b[0m\u001b[0m\n\u001b[1;32m     57\u001b[0m     \u001b[0;32mif\u001b[0m \u001b[0mname\u001b[0m \u001b[0;32mis\u001b[0m \u001b[0;32mnot\u001b[0m \u001b[0;32mNone\u001b[0m\u001b[0;34m:\u001b[0m\u001b[0;34m\u001b[0m\u001b[0;34m\u001b[0m\u001b[0m\n",
            "\u001b[0;31mKeyboardInterrupt\u001b[0m: "
          ]
        }
      ]
    },
    {
      "cell_type": "markdown",
      "source": [
        "# Bidirectional"
      ],
      "metadata": {
        "id": "gZBaFFj_Lw29"
      }
    },
    {
      "cell_type": "code",
      "source": [
        "inputs= tf.keras.layers.Input(shape=(SEQUENCE_LENGTH,),)#SEQUENCE_LENGTH,),)\n",
        "EMBEDDING_DIM=200\n",
        "embedding =tf.keras.layers.Embedding(VOCAB_SIZE, EMBEDDING_DIM,)\n",
        "model=tf.keras.models.Sequential([\n",
        "    inputs,\n",
        "    embedding,\n",
        "    Bidirectional(tf.keras.layers.GRU(20,activation='tanh',use_bias=True,return_sequences=True)),\n",
        "    tf.keras.layers.Dense(1,activation='relu'),\n",
        "    tf.keras.layers.Reshape((SEQUENCE_LENGTH,)),\n",
        "    tf.keras.layers.Dense(1,activation='sigmoid'),\n",
        "   ])\n",
        "model.summary()\n",
        "\n",
        "LR=5e-4\n",
        "EPOCH=15\n",
        "model.compile(\n",
        "    loss=tf.keras.losses.BinaryCrossentropy(from_logits=True),\n",
        "    optimizer=tf.keras.optimizers.Adam(lr=LR,),\n",
        "    metrics=['accuracy']\n",
        ")\n",
        "checkpoint_filepath  = \"basic_rnn.hdf5\"\n",
        "\n",
        "callback=tf.keras.callbacks.ModelCheckpoint(\n",
        "    filepath=checkpoint_filepath,\n",
        "    save_weights_only=True,\n",
        "    monitor=\"val_loss\",\n",
        "    mode='min',\n",
        "    save_best_only=True)\n",
        "#Train model on dataset\n",
        "history = model.fit(train_dataset,validation_data=val_dataset,verbose=1,epochs=EPOCH,callbacks=[callback])\n",
        "plt.plot(history.history[\"loss\"][:])\n",
        "plt.plot(history.history[\"val_loss\"][:])\n",
        "plt.title('model loss')\n",
        "plt.ylabel('loss')\n",
        "plt.xlabel('epoch')\n",
        "plt.legend(['train','val'], loc = 'upper left')\n",
        "plt.show()\n",
        "\n",
        "plt.plot(history.history[\"accuracy\"][:])\n",
        "plt.plot(history.history[\"val_accuracy\"][:])\n",
        "plt.title('model accuracy')\n",
        "plt.ylabel('accuracy')\n",
        "plt.xlabel('epoch')\n",
        "plt.legend(['train','val'], loc = 'upper left')\n",
        "plt.show()\n"
      ],
      "metadata": {
        "id": "hbjFZhY7MDEe",
        "outputId": "30cd2a1a-a740-4dec-bb7f-6d09ee455715",
        "colab": {
          "base_uri": "https://localhost:8080/"
        }
      },
      "execution_count": null,
      "outputs": [
        {
          "output_type": "stream",
          "name": "stdout",
          "text": [
            "Model: \"sequential\"\n",
            "_________________________________________________________________\n",
            " Layer (type)                Output Shape              Param #   \n",
            "=================================================================\n",
            " embedding (Embedding)       (None, 100, 200)          400000    \n",
            "                                                                 \n",
            " bidirectional (Bidirectiona  (None, 100, 40)          26640     \n",
            " l)                                                              \n",
            "                                                                 \n",
            " dense (Dense)               (None, 100, 1)            41        \n",
            "                                                                 \n",
            " reshape (Reshape)           (None, 100)               0         \n",
            "                                                                 \n",
            " dense_1 (Dense)             (None, 1)                 101       \n",
            "                                                                 \n",
            "=================================================================\n",
            "Total params: 426,782\n",
            "Trainable params: 426,782\n",
            "Non-trainable params: 0\n",
            "_________________________________________________________________\n",
            "Epoch 1/15\n"
          ]
        },
        {
          "output_type": "stream",
          "name": "stderr",
          "text": [
            "/usr/local/lib/python3.7/dist-packages/keras/optimizer_v2/adam.py:105: UserWarning: The `lr` argument is deprecated, use `learning_rate` instead.\n",
            "  super(Adam, self).__init__(name, **kwargs)\n",
            "/usr/local/lib/python3.7/dist-packages/tensorflow/python/util/dispatch.py:1082: UserWarning: \"`binary_crossentropy` received `from_logits=True`, but the `output` argument was produced by a sigmoid or softmax activation and thus does not represent logits. Was this intended?\"\n",
            "  return dispatch_target(*args, **kwargs)\n"
          ]
        },
        {
          "output_type": "stream",
          "name": "stdout",
          "text": [
            "278/782 [=========>....................] - ETA: 1:10 - loss: 0.6932 - accuracy: 0.5065"
          ]
        }
      ]
    },
    {
      "cell_type": "code",
      "source": [
        ""
      ],
      "metadata": {
        "id": "QeU2FGjZgyeD"
      },
      "execution_count": null,
      "outputs": []
    }
  ]
}